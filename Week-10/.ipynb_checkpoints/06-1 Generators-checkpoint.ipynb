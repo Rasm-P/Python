{
 "cells": [
  {
   "cell_type": "code",
   "execution_count": 19,
   "metadata": {
    "scrolled": true
   },
   "outputs": [
    {
     "name": "stdout",
     "output_type": "stream",
     "text": [
      "ERROR: Could not find file <ipython-input-19-a1557e47a245>\n",
      "NOTE: %mprun can only be used on functions defined in physical files, and not in the IPython environment.\n"
     ]
    },
    {
     "data": {
      "text/plain": [
       "<generator object read_linewise at 0x000001BEF08F43C8>"
      ]
     },
     "execution_count": 19,
     "metadata": {},
     "output_type": "execute_result"
    }
   ],
   "source": [
    "#Exercise create generator\n",
    "import webget\n",
    "import os\n",
    "from memory_profiler import profile\n",
    "\n",
    "@profile\n",
    "def read_linewise(path):\n",
    "    with open(path) as fp:\n",
    "        for line in fp:\n",
    "            yield line\n",
    "\n",
    "if not os.path.isfile('unisex_navne.xls'):\n",
    "        os.system('wget -O unisex_navne.xls https://ast.dk/_namesdb/export/names?format=xls&gendermask=4')\n",
    "read_linewise('unisex_navne.xls')\n"
   ]
  },
  {
   "cell_type": "code",
   "execution_count": 15,
   "metadata": {},
   "outputs": [
    {
     "name": "stdout",
     "output_type": "stream",
     "text": [
      "889 ns ± 10.5 ns per loop (mean ± std. dev. of 7 runs, 1000000 loops each)\n",
      "1.37 µs ± 38 ns per loop (mean ± std. dev. of 7 runs, 1000000 loops each)\n"
     ]
    }
   ],
   "source": [
    "#Exercise\n",
    "#Figure out the difference between using range and using list(range)\n",
    "\n",
    "%timeit sum(range(0, 100)) #883 ns ± 2.55 ns per loop (mean ± std. dev. of 7 runs, 1000000 loops each)\n",
    "%timeit sum(list(range(0, 100))) #1.35 µs ± 13 ns per loop (mean ± std. dev. of 7 runs, 1000000 loops each) \n",
    "\n",
    "#Python built-in function range() generates the integer numbers between the given start \n",
    "#integer to the stop integer, i.e., range() returns a range object. \n",
    "\n",
    "#When we use range we build a 100 element list in memory and then find its sum.\n",
    "\n",
    "#When we use list(range()) we build a 100 element list in memory and then find its sum. \n",
    "#The List() constructer then takes this itterable and returns anew complete list from its 100 element itterations.\n",
    "\n",
    "#To sum up. list(range()) takes longer since it has to build a completely new list from the range() itterable, that \n",
    "#already has a list exisiting in memory."
   ]
  },
  {
   "cell_type": "code",
   "execution_count": 17,
   "metadata": {},
   "outputs": [
    {
     "name": "stdout",
     "output_type": "stream",
     "text": [
      "25 ms ± 48.2 µs per loop (mean ± std. dev. of 7 runs, 10 loops each)\n"
     ]
    }
   ],
   "source": [
    "%timeit sum(range(0, 10 ** 6)) #25 ms ± 48.2 µs per loop (mean ± std. dev. of 7 runs, 10 loops each)"
   ]
  },
  {
   "cell_type": "code",
   "execution_count": 16,
   "metadata": {},
   "outputs": [
    {
     "name": "stdout",
     "output_type": "stream",
     "text": [
      "41.1 ms ± 105 µs per loop (mean ± std. dev. of 7 runs, 10 loops each)\n"
     ]
    }
   ],
   "source": [
    "%timeit sum(list(range(0, 10 ** 6))) #41.1 ms ± 105 µs per loop (mean ± std. dev. of 7 runs, 10 loops each) "
   ]
  },
  {
   "cell_type": "code",
   "execution_count": null,
   "metadata": {},
   "outputs": [],
   "source": []
  }
 ],
 "metadata": {
  "kernelspec": {
   "display_name": "Python 3",
   "language": "python",
   "name": "python3"
  },
  "language_info": {
   "codemirror_mode": {
    "name": "ipython",
    "version": 3
   },
   "file_extension": ".py",
   "mimetype": "text/x-python",
   "name": "python",
   "nbconvert_exporter": "python",
   "pygments_lexer": "ipython3",
   "version": "3.7.4"
  }
 },
 "nbformat": 4,
 "nbformat_minor": 2
}
