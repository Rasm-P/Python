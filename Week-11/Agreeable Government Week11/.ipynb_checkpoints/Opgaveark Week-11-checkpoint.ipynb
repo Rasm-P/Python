{
 "cells": [
  {
   "cell_type": "code",
   "execution_count": 84,
   "metadata": {},
   "outputs": [
    {
     "data": {
      "text/html": [
       "<div>\n",
       "<style scoped>\n",
       "    .dataframe tbody tr th:only-of-type {\n",
       "        vertical-align: middle;\n",
       "    }\n",
       "\n",
       "    .dataframe tbody tr th {\n",
       "        vertical-align: top;\n",
       "    }\n",
       "\n",
       "    .dataframe thead th {\n",
       "        text-align: right;\n",
       "    }\n",
       "</style>\n",
       "<table border=\"1\" class=\"dataframe\">\n",
       "  <thead>\n",
       "    <tr style=\"text-align: right;\">\n",
       "      <th></th>\n",
       "      <th>Name</th>\n",
       "      <th>Score</th>\n",
       "      <th>Views</th>\n",
       "      <th>Rateings</th>\n",
       "    </tr>\n",
       "  </thead>\n",
       "  <tbody>\n",
       "    <tr>\n",
       "      <td>0</td>\n",
       "      <td>Breaking the Bank</td>\n",
       "      <td>4.56</td>\n",
       "      <td>1781721</td>\n",
       "      <td>Everyone</td>\n",
       "    </tr>\n",
       "    <tr>\n",
       "      <td>1</td>\n",
       "      <td>Piggy Bank Smash</td>\n",
       "      <td>3.70</td>\n",
       "      <td>76127</td>\n",
       "      <td>Everyone</td>\n",
       "    </tr>\n",
       "    <tr>\n",
       "      <td>2</td>\n",
       "      <td>Bank Escape</td>\n",
       "      <td>3.01</td>\n",
       "      <td>5543</td>\n",
       "      <td>Everyone</td>\n",
       "    </tr>\n",
       "    <tr>\n",
       "      <td>3</td>\n",
       "      <td>Tank Bank</td>\n",
       "      <td>3.91</td>\n",
       "      <td>4523</td>\n",
       "      <td>Ages 13+</td>\n",
       "    </tr>\n",
       "    <tr>\n",
       "      <td>4</td>\n",
       "      <td>Bank Shooter4</td>\n",
       "      <td>2.79</td>\n",
       "      <td>4898</td>\n",
       "      <td>Ages 13+</td>\n",
       "    </tr>\n",
       "    <tr>\n",
       "      <td>5</td>\n",
       "      <td>Bank Shooter</td>\n",
       "      <td>2.50</td>\n",
       "      <td>3697</td>\n",
       "      <td>Everyone</td>\n",
       "    </tr>\n",
       "    <tr>\n",
       "      <td>6</td>\n",
       "      <td>Bank!</td>\n",
       "      <td>3.58</td>\n",
       "      <td>9006</td>\n",
       "      <td>Everyone</td>\n",
       "    </tr>\n",
       "    <tr>\n",
       "      <td>7</td>\n",
       "      <td>Big Bank Robbery 2.0</td>\n",
       "      <td>3.18</td>\n",
       "      <td>7748</td>\n",
       "      <td>Everyone</td>\n",
       "    </tr>\n",
       "    <tr>\n",
       "      <td>8</td>\n",
       "      <td>The Big Bank Robbery</td>\n",
       "      <td>3.01</td>\n",
       "      <td>6985</td>\n",
       "      <td>Everyone</td>\n",
       "    </tr>\n",
       "    <tr>\n",
       "      <td>9</td>\n",
       "      <td>Franklin: Bank Alone</td>\n",
       "      <td>3.09</td>\n",
       "      <td>4956</td>\n",
       "      <td>Everyone</td>\n",
       "    </tr>\n",
       "    <tr>\n",
       "      <td>10</td>\n",
       "      <td>The Bank Job</td>\n",
       "      <td>3.50</td>\n",
       "      <td>5370</td>\n",
       "      <td>Everyone</td>\n",
       "    </tr>\n",
       "    <tr>\n",
       "      <td>11</td>\n",
       "      <td>Pank, the Piggy Bank</td>\n",
       "      <td>3.50</td>\n",
       "      <td>5159</td>\n",
       "      <td>Everyone</td>\n",
       "    </tr>\n",
       "    <tr>\n",
       "      <td>12</td>\n",
       "      <td>Cheeky's Bank Grab</td>\n",
       "      <td>2.66</td>\n",
       "      <td>3063</td>\n",
       "      <td>Ages 13+</td>\n",
       "    </tr>\n",
       "    <tr>\n",
       "      <td>13</td>\n",
       "      <td>Escape The Bank</td>\n",
       "      <td>2.84</td>\n",
       "      <td>2278</td>\n",
       "      <td>Everyone</td>\n",
       "    </tr>\n",
       "    <tr>\n",
       "      <td>14</td>\n",
       "      <td>Apothecary's Piggy Bank</td>\n",
       "      <td>2.65</td>\n",
       "      <td>740</td>\n",
       "      <td>Everyone</td>\n",
       "    </tr>\n",
       "    <tr>\n",
       "      <td>15</td>\n",
       "      <td>The Bankrobber</td>\n",
       "      <td>3.31</td>\n",
       "      <td>119932</td>\n",
       "      <td>Everyone</td>\n",
       "    </tr>\n",
       "    <tr>\n",
       "      <td>16</td>\n",
       "      <td>Blacksmith Lab</td>\n",
       "      <td>3.90</td>\n",
       "      <td>63155</td>\n",
       "      <td>Everyone</td>\n",
       "    </tr>\n",
       "    <tr>\n",
       "      <td>17</td>\n",
       "      <td>Reservoir Dogs - The Game</td>\n",
       "      <td>2.54</td>\n",
       "      <td>27183</td>\n",
       "      <td>Ages 13+</td>\n",
       "    </tr>\n",
       "    <tr>\n",
       "      <td>18</td>\n",
       "      <td>Ace High Flash Blackjack</td>\n",
       "      <td>3.03</td>\n",
       "      <td>6044</td>\n",
       "      <td>Everyone</td>\n",
       "    </tr>\n",
       "    <tr>\n",
       "      <td>19</td>\n",
       "      <td>Flash Element TD</td>\n",
       "      <td>4.35</td>\n",
       "      <td>789983</td>\n",
       "      <td>Ages 13+</td>\n",
       "    </tr>\n",
       "  </tbody>\n",
       "</table>\n",
       "</div>"
      ],
      "text/plain": [
       "                         Name Score    Views  Rateings\n",
       "0           Breaking the Bank  4.56  1781721  Everyone\n",
       "1            Piggy Bank Smash  3.70    76127  Everyone\n",
       "2                 Bank Escape  3.01     5543  Everyone\n",
       "3                   Tank Bank  3.91     4523  Ages 13+\n",
       "4               Bank Shooter4  2.79     4898  Ages 13+\n",
       "5                Bank Shooter  2.50     3697  Everyone\n",
       "6                       Bank!  3.58     9006  Everyone\n",
       "7        Big Bank Robbery 2.0  3.18     7748  Everyone\n",
       "8        The Big Bank Robbery  3.01     6985  Everyone\n",
       "9        Franklin: Bank Alone  3.09     4956  Everyone\n",
       "10               The Bank Job  3.50     5370  Everyone\n",
       "11       Pank, the Piggy Bank  3.50     5159  Everyone\n",
       "12         Cheeky's Bank Grab  2.66     3063  Ages 13+\n",
       "13            Escape The Bank  2.84     2278  Everyone\n",
       "14    Apothecary's Piggy Bank  2.65      740  Everyone\n",
       "15             The Bankrobber  3.31   119932  Everyone\n",
       "16             Blacksmith Lab  3.90    63155  Everyone\n",
       "17  Reservoir Dogs - The Game  2.54    27183  Ages 13+\n",
       "18   Ace High Flash Blackjack  3.03     6044  Everyone\n",
       "19           Flash Element TD  4.35   789983  Ages 13+"
      ]
     },
     "execution_count": 84,
     "metadata": {},
     "output_type": "execute_result"
    }
   ],
   "source": [
    "import bs4\n",
    "from time import sleep\n",
    "from selenium import webdriver\n",
    "from selenium.webdriver.common.keys import Keys\n",
    "import pandas as pd \n",
    "from decimal import Decimal\n",
    "\n",
    "#Utilize selenium to choose a tag(games/movies/etc) and then utilize the search field (you choose what you search)\n",
    "def search_items(item):\n",
    "    base_url = 'https://www.newgrounds.com/'\n",
    "    browser = webdriver.Firefox()\n",
    "    browser.get(base_url)\n",
    "    browser.implicitly_wait(3)\n",
    "    \n",
    "    search_field = browser.find_elements_by_partial_link_text('Games')\n",
    "    search_field[0].click()\n",
    "    sleep(3)\n",
    "    \n",
    "    search_field = browser.find_element_by_name('terms')\n",
    "    search_field.send_keys(item)\n",
    "    search_field.submit()\n",
    "    sleep(3)\n",
    "    \n",
    "    #Webscrape the results and convert them to a comprehensible table (dataset)\n",
    "    page_source = browser.page_source\n",
    "    soup = bs4.BeautifulSoup(page_source, 'html.parser')\n",
    "    event_cells = soup.find_all('div', {'class': 'item-details'})\n",
    "    \n",
    "    name_list = []\n",
    "    score_list = []\n",
    "    view_list = []\n",
    "    rateing_list = []\n",
    "    for e in event_cells:\n",
    "        name_list.append(e.select('div:nth-child(2) > div:nth-child(1) > div:nth-child(1) > h4:nth-child(1)')[0].text)\n",
    "        score_list.append(Decimal(''.join(map(str, e.select('div:nth-child(2) > div:nth-child(2) > div:nth-child(1)'))).split(' ')[3][0:4]))\n",
    "        view_list.append(int(e.select('div.item-details-meta dl dd')[1].text.split(' ')[0].replace(',','')))\n",
    "        rateing_list.append(e.select('dd:nth-child(3) > span:nth-child(1)')[0].text[1:-1])\n",
    "    \n",
    "    list_of_tuples = list(zip(name_list, score_list ,view_list, rateing_list)) \n",
    "    df = pd.DataFrame(list_of_tuples, columns = ['Name', 'Score','Views','Rateings']) \n",
    "    return df\n",
    "    \n",
    "data_frame = search_items('bank')\n",
    "data_frame"
   ]
  },
  {
   "cell_type": "code",
   "execution_count": 85,
   "metadata": {},
   "outputs": [
    {
     "data": {
      "text/plain": [
       "<BarContainer object of 20 artists>"
      ]
     },
     "execution_count": 85,
     "metadata": {},
     "output_type": "execute_result"
    },
    {
     "data": {
      "image/png": "[encoded data removed]",
      "text/plain": [
       "<Figure size 432x288 with 1 Axes>"
      ]
     },
     "metadata": {
      "needs_background": "light"
     },
     "output_type": "display_data"
    }
   ],
   "source": [
    "import matplotlib.pyplot as plt\n",
    "\n",
    "#Create a barchart using rating(stars) or views, or make a piechart showing the distribution of the games with different age ratings\n",
    "plt.bar(data_frame['Name'], data_frame['Score'], width=0.5, align='center')"
   ]
  },
  {
   "cell_type": "code",
   "execution_count": 86,
   "metadata": {},
   "outputs": [
    {
     "data": {
      "text/plain": [
       "<BarContainer object of 20 artists>"
      ]
     },
     "execution_count": 86,
     "metadata": {},
     "output_type": "execute_result"
    },
    {
     "data": {
      "image/png": "[encoded data removed]",
      "text/plain": [
       "<Figure size 432x288 with 1 Axes>"
      ]
     },
     "metadata": {
      "needs_background": "light"
     },
     "output_type": "display_data"
    }
   ],
   "source": [
    "plt.bar(data_frame['Name'], data_frame['Views'], width=0.5, align='center')"
   ]
  },
  {
   "cell_type": "code",
   "execution_count": 98,
   "metadata": {},
   "outputs": [
    {
     "data": {
      "image/png": "[encoded data removed]",
      "text/plain": [
       "<Figure size 432x288 with 1 Axes>"
      ]
     },
     "metadata": {},
     "output_type": "display_data"
    }
   ],
   "source": [
    "rateing_dict = {}\n",
    "\n",
    "for rate in data_frame['Rateings']:\n",
    "    if rate in rateing_dict:\n",
    "        rateing_dict[rate] = rateing_dict[rate]+1\n",
    "    else: \n",
    "        rateing_dict[rate] = 1\n",
    "\n",
    "explode = (0.1, 0.2) \n",
    "fig1, ax1 = plt.subplots() \n",
    "ax1.pie(rateing_dict.values(), labels=rateing_dict.keys(), explode=explode, autopct=lambda p:'{:.2f}%({:.0f})'.format(p,(p/100)*sum(rateing_dict.values())), \n",
    "        shadow=True, startangle=90)\n",
    "ax1.set_aspect('equal')\n",
    "ax1.legend(rateing_dict.keys(), loc='upper right')\n",
    "\n",
    "plt.show()"
   ]
  },
  {
   "cell_type": "code",
   "execution_count": null,
   "metadata": {},
   "outputs": [],
   "source": []
  }
 ],
 "metadata": {
  "kernelspec": {
   "display_name": "Python 3",
   "language": "python",
   "name": "python3"
  },
  "language_info": {
   "codemirror_mode": {
    "name": "ipython",
    "version": 3
   },
   "file_extension": ".py",
   "mimetype": "text/x-python",
   "name": "python",
   "nbconvert_exporter": "python",
   "pygments_lexer": "ipython3",
   "version": "3.7.4"
  }
 },
 "nbformat": 4,
 "nbformat_minor": 2
}
