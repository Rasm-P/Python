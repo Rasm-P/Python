{
 "cells": [
  {
   "cell_type": "code",
   "execution_count": 51,
   "metadata": {},
   "outputs": [
    {
     "name": "stdout",
     "output_type": "stream",
     "text": [
      "['A', 'A', 'A', 'A', 'A', 'A', 'A', 'A', 'A', 'A', 'Aage', 'Aage', 'Aage', 'Aage', 'Aage', 'Aage', 'Aage', 'Aage', 'Aage', 'Aage', 'Aage', 'Aage', 'Aage', 'Aage']\n"
     ]
    }
   ],
   "source": [
    "import re\n",
    "with open('./addresses.txt') as f:\n",
    "    addresses = f.read()\n",
    "#print(addresses)\n",
    "    \n",
    "reg = re.compile(r'\\n\\n+(\\w+)')\n",
    "mo = reg.findall(addresses)\n",
    "print(mo)"
   ]
  },
  {
   "cell_type": "code",
   "execution_count": null,
   "metadata": {},
   "outputs": [],
   "source": []
  }
 ],
 "metadata": {
  "kernelspec": {
   "display_name": "Python 3",
   "language": "python",
   "name": "python3"
  },
  "language_info": {
   "codemirror_mode": {
    "name": "ipython",
    "version": 3
   },
   "file_extension": ".py",
   "mimetype": "text/x-python",
   "name": "python",
   "nbconvert_exporter": "python",
   "pygments_lexer": "ipython3",
   "version": "3.7.4"
  }
 },
 "nbformat": 4,
 "nbformat_minor": 2
}
