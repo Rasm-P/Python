{
 "cells": [
  {
   "cell_type": "code",
   "execution_count": 1,
   "metadata": {},
   "outputs": [
    {
     "name": "stdout",
     "output_type": "stream",
     "text": [
      "39\n"
     ]
    }
   ],
   "source": [
    "import bs4\n",
    "import requests\n",
    "\n",
    "#1. First find how many pages there are\n",
    "r = requests.get('https://www.dr.dk/radio/programmer')\n",
    "r.raise_for_status\n",
    "soup = bs4.BeautifulSoup(r.text, 'html.parser')\n",
    "\n",
    "elems = soup.find_all('button', {'class': 'pagination__item'})\n",
    "#elm = soup.select('button.pagination__item')\n",
    "number_of_pages = elems[5].text\n",
    "print(number_of_pages)"
   ]
  },
  {
   "cell_type": "code",
   "execution_count": 17,
   "metadata": {},
   "outputs": [
    {
     "name": "stderr",
     "output_type": "stream",
     "text": [
      "100%|██████████| 38/38 [00:17<00:00,  2.22it/s]\n"
     ]
    },
    {
     "name": "stdout",
     "output_type": "stream",
     "text": [
      "['2020-planen', '24 fortællinger om Händels Messias', \"24 lysende stjerner fra 10'erne\", '24 musikudtryk ifølge P2', '2GOBOG', '2% tilbage', '365 fra P8 JAZZ - Maraton', '365 på P6 BEAT', '365 på P7 MIX', '45 omdrejninger', '4. division', \"90'ernes helte: Tyggegummipoppen\", '90 i timen', 'Absolute Absolute Music', 'Adam Holm i Syrien', 'Afslag på et kys', 'Album', 'Al den Jazz med Mikael Simpson', 'Allan Gravgaard Madsens natlige skaberværk', 'Alphabeat', 'Alt om Emma - en serie om MDMA', 'Amadeus', 'Arabiske stemmer', 'Asta og Frede', 'Audiens', 'Ausfahrt', 'Badabing', 'Baggers Bedrifter', 'Baggården', 'Bagklog på P1', 'Baglandet', 'Balkans knuste hjerte', 'Barometeret', 'BAS', 'Bassen på P6 BEAT', 'Batteriet', 'Beat Bitches', 'Beethovens 9 symfonier ifølge Kristian Leth', 'Beethovens Strygekvartetter ifølge Kristian Leth', 'Bergman og musikken', 'Bestjålet af hjemmehjælperen', 'Besøgstid', 'Bilradio', 'Binge - med Frederik og Kasper', 'Blackout - pigen på billedet', 'Bliver jeg skør?', 'Blå piger', 'Bogselskabet', 'Bomben i Søllerødgade', 'Bravo - med Lotte Heise', 'Break Beat', 'Brinkmann på P1', 'Brinkmanns briks', 'Brittas bedrag', 'Bruce Springsteen - Born to run', 'Brunchparlamentet', 'Brun Kartoffel', 'Buffeten', 'Bæhrenz vs Jensen', 'Børn taler ud', 'Carl Nielsen 150 år', 'Carl Nielsen Kammermusikkonkurrence', 'Carl Nielsen - Privatsfærens musik', 'Carl Nielsens liv, lyst, last og længsel', 'Cecilie og sorgen', 'Cilius Patruljen', 'Copenhagen Jazzfestival 2019', 'Curlingklubben', 'Cæcilies Corner', 'Dagdrømmer', 'Dagens Danmark', 'Danmark kort', 'Danmark Live', 'Danmarks dræber #1 - med Peter Falktoft', 'Danmarkshistorien set fra toget', 'Danmark til VM', 'Danske Hitmagere', 'Danskerbingo', 'Danskernes akademi på P1', 'Danske tilstande', 'Dansktoppen', 'Dansktoppens Gyldne År', 'Da Trump næsten kom til Danmark', 'David og Maria bytter liv - highlights', 'De bagkloge nyheder', 'De bedste klaverkomponister', 'Debut', 'Decemberkøkken', 'De første skridt', 'De højere magter', 'Den blå time', 'Den daglige dosis', 'Den forsvundne soldat', 'Den første bøsse på banen', 'Den første gang på P6 BEAT', 'Den lille poptur', 'Den Nordiske Odyssé', 'Den nye stil - historien om dansk rap', 'Den orgasmiske fødsel', 'Den røde tråd', 'Den sandsynlige morder', 'Den sidste modstandsmand', 'Den sorte boks', 'Den Store Poptur', 'Den uperfekte mor', 'Derfor elsker vi opera', \"De rigtige 90'ere\", 'De sidste fanger i Vridsløse', 'De skandinaviske krigere', 'De Sorte Spejdere - podcast', 'De tabte traditioner', 'Det bedste fra Dansktoppens gyldne år', 'Det du frygter', 'Detektor', 'Det fede er...', 'Det Forenede Kongerige', 'Det fælles bedste', 'Det gode selskab', 'Det man hører, er man selv', 'Det perfekte offer', 'Det perfekte offer II', 'Det Tomme Magasin', 'De unge dirigenter - podcast', 'Digitalt', 'Din historie - podcast', 'Discodrønet', 'Dissing - fra bluessanger til folkekær troubadour', 'Diva & Dario', 'Divaerne', 'Djævlen i detaljen', 'Dobbeltmordet', 'Dobbelt op med Keld Heick', 'Dobbelt op med Kirsten Siggaard', 'Domino', 'Dommedag aflyst', 'Dronekrigeren', 'Droner og kanoner', 'DR Romanklubbens podcast', 'DR Romanprisen 2012', 'DR Romanprisen 2013', 'DR Romanprisen 2014', 'DR Romanprisen 2017', 'DR Romanprisen 2018', 'DR Romanprisen 2019', 'DR Romanprisen 2020', 'DRs Romanpris 2015', 'DRs Romanpris 2016', 'Drømme fra bunden', 'Drømmenes Kaptajn', 'Duellen', 'Dværgen og kæmpen', 'Edderkoppehøgen', 'Efter festen', 'Efterforskerne', 'Eftermiddagen på P8 JAZZ', \"Eks'er for evigt\", 'Ekstase på P6 BEAT', 'Eldorado', 'Elsker dig for evigt', 'En anden verden', 'Endnu en jul med Poul Nesgaard', 'En forfatter flytter ind', 'En kongelig stund', 'En playliste til', 'En Stasi-mands død', 'Er der brev fra Villy?', 'Et langsomt mord', 'Faking News!', 'Familie før alt', 'Far, der er noget vi skal tale om', 'Farlige toner - historien om dansk jazz', 'Farrock på P6 BEAT', \"Farvel til 10'erne\", 'Farvel til de folkevalgte', 'Feature', 'Fede fagbøger - med Adam Holm', 'Festen & Gæsten', 'Festen med Povlsen & Holm', 'Fezten på P6 BEAT', 'Filmharmonikerne', 'Filmland', 'Filosoffen, forfatteren og fremtidskvinden', 'Find Cookiemonsteret', 'Fjeldgænger', 'Flugten fra folkeskolen', 'FONK! Det er lørdag', 'FONK! Det er podcast', 'Forelsket i Jazz', 'Formiddag med Simpson', \"Formiddag på 4'eren\", 'Forsiden af medaljen', 'Fra A til B - med Anders Bisgaard', 'Fra Gedser til Skagen', 'Fra Skotland til Skjern', 'Frigørelsens tyranni?', 'Frygt - Live fra Christchurch', 'Fædregruppen', 'Følg pengene', 'Før Torsdagskoncerten', 'Gamers', 'Gandhi - myten om det gode?', 'Gehør - Rachmaninov med Cilius og Hammer', 'Gemt i mørket', \"Genstart - DR's nyhedspodcast\", 'Giro 413', \"Go' Morgen P3\", 'Grammofon', 'Gudstjeneste på P1', 'Hallo Far', 'Hammer og Cilius', 'Harddisken', 'Havet venter', 'Hej P2', 'Hej P2 - Aften', 'Helt Klassisk med Lotte Heise', 'Henrik og pladepusherne', 'His Bobness', 'Hithouse', 'Hit med historien', 'Hjernekassen på P1', 'H.K.H Prins Henrik 1934 - 2018', 'Holdet', 'Hotellet', 'Hvad skal vi med konger?', 'Hvem er...', 'Hvorfor har jeg ikke en kæreste?', 'Håndbold på DR', 'Høje hæle og store beslutninger', 'I helvedes forgård', 'I korsets tegn', 'Illustreret Sport', 'International julemusikdag på P2', 'I planetens tjeneste', 'I røven af...', 'I virkeligheden', 'Jacob Ege Grinchelys kulturkanon', 'Jazz&Bøger', 'Jazz & Co', 'JAZZcruise', 'Jazzgryden', 'Jazzklubben', 'Jazzmosfæren med Master Fatman', 'Jazzoom', 'Jazz på vinyl med Hugo Rasmussen', 'Jazz Top 50', 'Jeg er mobilafhængig - med Thomas Skov', 'Jeg er nøgen', 'Jensens Musikservice', 'Jordforbindelsen der forsvandt', 'Julehjælpen på P3', 'Julies Jukebox', 'KarriereKanonen', 'Kejser', 'Kim Larsen Mindeudsendelse på P4', 'Kim Larsen Mindeudsendelse på P5', 'Kinddans', \"Klar Vikar på 4'eren\", 'Klassikere Genfortalt I', 'Klassikere Genfortalt II', 'Klassikere genfortalt III', 'Klassiske legender', 'Klassisk Morgenmusik', 'Klassisk Top 50', 'Klassisk Top 50 Den danske sang', 'Klassisk Top 50 Filmmusik', 'Klassisk Top 50 Kor', 'Klassisk Top 50 Musical', 'Klassisk top 50 Opera', 'Klik', 'Klimakamp i rismarken', 'Klimatestamentet', 'Klindt & Søn', 'Klog på Sprog', 'Knas på P8 JAZZ', 'Koncert på P8 JAZZ', 'Koranskolen på P1', 'Korfix og Kaffe', 'Korrespondenternes klub', 'Kortsluttet', 'Krig og klassisk - med Lotte Heise', 'Kristendom - i kød og blod', 'Kristian Leth og outsideren', 'Kristian Leth og outsideren - Podcast', 'Krop og bevægelse', 'Kulturen på P1', 'Kun et menneske', 'Kun fjeldene står evigt', 'Kvartlivskrisen', 'Kvinde kend din POP', 'Kvinderne på kvisten', 'Kvindernes kampdag på P3 - med Sara Bro og Maria Jencel', 'Kære Carl...', 'Kære Carl... Breve og sange fra Carl Nielsen og Anne Marie Carl Nielsens ægteskab', 'Kødkrigen', 'Lars, Mette og Magten', 'Late Night Love med Bobby Jones', 'Lea og Nomis store drøm', 'Le Mans Special', 'Leonard Cohen - Closing Time', 'Leonard Cohen - en radiobiografi', 'LIGA', 'Line Kirsten Giftekniv', 'Live fra Højskolesangbogen', 'Lottomysteriet', 'Ludermanifestet', \"Lyden af 10'erne\", 'Lyden af Danmarkshistorien', 'Lytterbreve fra ekkokammeret', 'Læge søger grænser', 'Længe leve albummet', 'Løsladt', 'Madsen', 'Mads & Monopolet', 'Mads & Monopolet - podcast', 'Magasinet på P6 BEAT', 'Malko Konkurrencen 2018', 'Man binder os...', 'Manden på gletsjeren', 'Manden uden skygge', 'Manderegler - med Emma Holten og Anders Haahr', 'Mands Minde foredrag: Birthe Rønn Hornbeck - Fra krigsbarn til folkevalgt', 'Mands Minde foredrag: Margrethe Auken - På cykel gennem seks årtier', 'Mands Minde foredrag: Peter Bastian - Gå aldrig ned fra scenen', 'Mands Minde foredrag: Uffe Ellemann-Jensen - Vejen jeg valgte', 'Man stoler vel på præsten', 'Manualen ifølge Vidundergrunden', 'Manus manege', 'Masterclasses', 'Meget mere Matador', 'Men du er her stadig', 'Meningsministeriet', 'Mennesker og medier', 'Mennesker og tro', \"Mer' Monitor\", 'Mesterlige Jazzsoundtracks', 'Michala Petri: For musikkens skyld', 'Midsommer med DR PigeKoret', 'Mig & Markus', 'Mig og Musikken', 'Min forbandede stemme', 'Min hemmelige krop', 'Min kamp mod kræften - med Arne Notkin', 'Min morfar, Færøerne og folkesjælen', 'Min yndlingsmusik', 'Mit 68', 'MIXTAPE - Fyr den med Fie Neergaard', 'MIXTAPE - Metalmotion med Anders Bøtter', 'MIXTAPE - Ny musik', 'MIXTAPE - Rolige Toner med Tilde Bang-Kristensen', 'MIXTAPE -Tættere på Himlen med Andrew Moyo', 'MIXTAPE - Valentines musik', 'MIXTAPE - Årtiets bedste', 'Mod det uendelige univers', 'Monopolets julekalender ', 'Monte Carlo', 'Morgenandagten', 'Morgenbeatet', 'Morgensangen', 'Morgenstund', 'Mother Teresa - myten om det gode?', 'Musikelskerne på P6 BEAT', 'Musik i laboratoriet', 'Musikken er et monster', 'Musiklivet med Carsten Holm', 'Musikpanelet', 'Musikquizzen', 'Musikselskabet', 'Musiktjenesten', 'Mænd der ødelægger kvinder', 'Mød Michala Petri - P2 Kunstner 2019', 'Natsværmeren', 'Nattens dronning', 'Natten vi blev Europamestre', 'Naturen kalder', 'Natursyn', 'Nedslag med Schønwandt', \"Neil Young - Dreamin' Man\", 'Neonlys', 'Nordfronten', 'Nye Skiver på P8 JAZZ', 'Nyheder fra Grønland', 'Ny lyd', 'Nytårsfesten', 'Nytårskuren på P3', 'Når flygtningene er danske', 'Nærradiofonien', 'Om hundrede år - lydbog', 'Opera i guldalderens København', 'Oprør på P5', 'Optakt til Dronningens nytårstale', 'Orientering', 'P1 Debat', 'P1 Dokumentar', 'P1 i Fængsel', 'P1 Morgen', 'P1 podcaster', 'P1 på plejehjem', 'P1 redder verden', 'P1 Videnskabsmøde', 'P2 anbefaler klassisk', 'P2 fejrer', 'P2 fejrer Messias', 'P2 Guldkoncerten', 'P2 Kammermusikkonkurrence', 'P2 Koncerten', 'P2 Morgenmusik', 'P2 Operaaften', 'P2 Puls', 'P3 hylder Gramsespektrum', 'P3 med Anders Ugilt og Anna Tychsen', 'P3 Morgen', 'P3 Nyheder', \"P3's julefrokost\", 'P4 Aften', 'P4 Bornholm regionale nyheder', 'P4 Eftermiddag Bornholm', 'P4 Eftermiddag Fyn', 'P4 Eftermiddag København', 'P4 Eftermiddag Nordjylland', 'P4 Eftermiddag Sjælland', 'P4 Eftermiddag Syd & Esbjerg', 'P4 Eftermiddag Trekanten', 'P4 Eftermiddag Østjylland', 'P4 Esbjerg regionale nyheder', 'P4 Fyn regionale nyheder', 'P4 Fyn Weekend', 'P4 København regionale nyheder', 'P4 med Ivan Gregersen', 'P4 Midt & Vest Eftermiddag', 'P4 Midt & Vest regionale nyheder', 'P4 Morgen Bornholm', 'P4 Morgen Fyn', 'P4 Morgen København', 'P4 Morgen Midt & Vest', 'P4 Morgen Nordjylland', 'P4 Morgen Sjælland', 'P4 Morgen Syd', 'P4 Morgen Trekanten', 'P4 Morgen Østjylland', 'P4 Nordjylland regionale nyheder', 'P4 Play', \"P4'serne\", 'P4 Sjælland regionale nyheder', 'P4 Syd regionale nyheder', 'P4 til døren', 'P4 Trekanten regionale nyheder', 'P4 Weekend Bornholm', 'P4 Weekend København', 'P4 Weekend Midt & Vest', 'P4 Weekend Nordjylland', 'P4 Weekend Sjælland', 'P4 Weekend Syd & Esbjerg', 'P4 Weekend Trekanten', 'P4 Weekend Østjylland', 'P4 Østjylland regionale nyheder', 'P5 Aften', 'P5 med Charlotte Mørck', 'P5 med Lærke Straube', 'P5 med Ole Tøpholm', 'P5 Morgen', 'P6 Beat City', 'P6 BEAT Efterår', 'P6 BEAT elsker', 'P6 BEAT for begyndere', 'P6 BEAT med Camilla Jane Lea', 'P6 BEAT med Henrik Aagaard', 'P6 BEAT med Jonas Hansen', 'P6 BEAT med Louise Lolle', 'P6 BEAT med Mads Gundersen', 'P6 BEAT med Sebastian Saxton', 'P6 BEAT på Northside', 'P6 BEAT United', 'P7 MIX Maraton', 'P7 MIX Maraton - podcast', 'P7 MIX møder', 'P7 MIX præsenterer', 'P8 Jazz Alive', 'P8 Jazz Alive - din musik minder mig om...', 'P8 Koncerten', 'Panorama', 'Paul McCartney - 75 år på toppen af poppen', 'Pelle Peter på P3', 'Pelle Peters Panel', 'Pick Up', 'Ping Pong', 'Pippi for voksne', 'Pladeselskabet', 'Plakatmafiaen - kampen om bymuren', 'Popdatering', 'Pop! Med Milling og Molbech', 'Pop Op', 'Povlsen & Holm', 'Protest på P6 BEAT', 'Public service', 'Puk og Suzanne i Syrien', 'På Bagsædet - med Hav & Kamal', 'På hovedet i', 'På opdagelse', 'På opdagelse i Carl Nielsens symfonier', 'På samfundets bund', 'Radio Aktivitet', 'Radioavisen', 'Radiobiografen', 'Radiofortællinger', 'Recept', 'Rejsen til det fremmede', 'Reklametjenesten', 'Revet', 'Ring til Reformationen', 'Ring til regeringen', 'Rosenkjærprisen', 'Russerne kommer', 'Rygtet siger', 'Sagnfolket', 'Sammen om sorgen', 'Sange fra min bogreol', 'Sangenes Blå Bog', 'Sangskriver', 'Selvmordstanker med Mikkel Frey Damgaard', 'Selv Tak', \"Sex, drugs and rock'n'roll\", 'Shitstorm', 'Sidste mand slukker lyset', 'Sigges sommer - fem begivenheder, der flytter Danmark', 'Skjoldhøj Arkivet', 'Skoleskemaet', 'Skud i sneen', 'Skyggesøster', 'Skønhedskontrakten', 'Skønlitteratur på P1', 'Slotsholmen', 'Småborger', 'Snapdok Syrien', 'Snooze', 'Sort Søndag', 'Sovsen', 'Speditørens død - Mysteriet om Morten Nielsen', 'Splittet til atomer', 'Spor af mennesket', 'Sproghjørnet', 'Sproglaboratoriet', 'Statsministrene på P1', 'Status på P6 BEAT', 'Stegelmanns score', 'Stines gæster', 'Stines søndag', 'Stjerner og striber - Vejen mod Det Hvide Hus', 'Studie 5', 'Stå op med P7 MIX', 'Supertanker', 'Svenske tilstande', 'Sygt nok', 'Symfoniorkesteret', 'Sådan kan du høre det er', 'Sådan kan du høre det er - Podcast', 'Så Hyg', 'Så Kom!', 'Så vidt vi ved', 'SøndagsGæsten', 'Søndagsklassikeren', 'Søren & Mette', 'Søskendespillet', 'Søvnløs', 'Tabu', 'Taler du Jazz?', 'Tal til mig', 'Terroristerne', 'Test eller Kolera', 'Testen før festen', 'The Rolling Stones - historien om verdens største rockband', 'The Sound of Musical', 'Tidsånd', 'Til fest med en morder', 'Til minde om prins Henrik', 'Toner', 'Troldspejlet Podcast', 'Tue og Tonys TV-Klub - Gift Ved Første Blik', 'Tværs', 'Tykt farvel', 'Tændt', 'Tæt på Tæt på sandheden', 'Tættere på himlen', 'Ubådssagen', 'Udlandseventyret', 'Ugens gæst', 'Uhørt', 'Ulvelandet', 'Unga Bunga!', 'Ung Jazz Finale', 'Vejen mod mand', 'Verden ifølge Gram', 'Verdens bedste lov', 'Verdens bedste lyttere f*cker op', 'Verdens bedste lyttere på date', 'Verdenspressen', 'Verdenssituationen', 'Verdens venligste fængsel', 'Veteranerne Radio', 'Videnskabens Verden', 'Vidunderbørn', 'Vidundergrunden', 'Vidundergrunden & Verden', 'Vildt Naturligt', 'Vis mig din sang, skat!', 'Vistis vinyler', 'Vådeskud', 'vær.her.nu på P6 BEAT']"
     ]
    },
    {
     "name": "stdout",
     "output_type": "stream",
     "text": [
      "\n"
     ]
    }
   ],
   "source": [
    "from tqdm import tqdm\n",
    "\n",
    "#2 & 3. Then find all titles on https://www.dr.dk/radio/programmer?side=1\n",
    "def scrape_events_per_page(url):\n",
    "    r = requests.get(url)\n",
    "    r.raise_for_status()\n",
    "    soup = bs4.BeautifulSoup(r.text, 'html.parser')\n",
    "    event_cells = soup.find_all('li', {'class' : 'spot-list-search__spot'})\n",
    "    \n",
    "    scraped_events_per_page = []\n",
    "    for event_cell in event_cells:\n",
    "        name = event_cell.select('h3[class=spot-content__title]')[0].text\n",
    "        scraped_events_per_page.append(name)\n",
    "    return scraped_events_per_page\n",
    "\n",
    "scraped_events = []\n",
    "indexes = list(range(1, int(number_of_pages)))\n",
    "indexes[0] = 0\n",
    "base_url = 'https://www.dr.dk/radio/programmer?side={}'\n",
    "\n",
    "for idx in tqdm(indexes):\n",
    "    scrape_url = base_url.format(idx)\n",
    "    scraped_events += scrape_events_per_page(scrape_url)\n",
    "print(scraped_events)"
   ]
  },
  {
   "cell_type": "code",
   "execution_count": null,
   "metadata": {},
   "outputs": [],
   "source": []
  }
 ],
 "metadata": {
  "kernelspec": {
   "display_name": "Python 3",
   "language": "python",
   "name": "python3"
  },
  "language_info": {
   "codemirror_mode": {
    "name": "ipython",
    "version": 3
   },
   "file_extension": ".py",
   "mimetype": "text/x-python",
   "name": "python",
   "nbconvert_exporter": "python",
   "pygments_lexer": "ipython3",
   "version": "3.7.4"
  }
 },
 "nbformat": 4,
 "nbformat_minor": 2
}
