{
 "cells": [
  {
   "cell_type": "code",
   "execution_count": 39,
   "metadata": {},
   "outputs": [
    {
     "name": "stdout",
     "output_type": "stream",
     "text": [
      "['Studentermedhjælper/assistent med interesse inden for Finance', 'Are you our next Project & Social Media Manager? - MobilePay, Banking Denmark', 'Experienced Java Software Engineer - in Credit & Risk Solutions, Group IT', 'Webredaktør', 'Controller til regnskab-, skat- og momsområdet i Group Accounting', 'Ingeniør til sprinklerprojektering på spændende byggerier', 'Bliv forsikringselev hos Storstrøms Forsikring', 'Scrum Master til Team Datamanagement og Team Koncern Data', 'Økonomielev', 'PenSam Bank søger kunderådgiver', 'Senior Analyst for Finance Investment Administration in Danica Pension, Danica Pension', 'Are you our new Financial Analyst? - for the Finance-team in MobilePay, Banking Denmark', 'Jurist med bred interesse til COO Legal, Group Legal', 'Personlig Rådgiver til Frederikssund afdeling', 'Specialcenter for borgere med demens i Favrskov Kommune søger social- og sundhedsassistent i primært dagvagt', 'Basissygeplejerske søges til specialcenter for borgere med demens i Favrskov Kommune – primært dagvagter', 'Controller til en spændende virksomhed i en stor global organisation', '”Nyuddannet” softwareudvikler', 'Svensktalende kundeservicemedarbejder med administrative kompetencer', 'Bankrådgiver, Familie til Herlev']\n"
     ]
    }
   ],
   "source": [
    "import bs4\n",
    "from time import sleep\n",
    "from selenium import webdriver\n",
    "from selenium.webdriver.common.keys import Keys\n",
    "\n",
    "#Class exercise 07-3 selenium\n",
    "def søg_efter_job(job):\n",
    "    base_url = 'https://www.jobindex.dk/'\n",
    "    browser = webdriver.Firefox()\n",
    "    browser.get(base_url)\n",
    "    browser.implicitly_wait(3)\n",
    "    \n",
    "    search_field = browser.find_element_by_name('qs')\n",
    "    search_field.send_keys(job)\n",
    "    search_field.submit()\n",
    "    sleep(3)\n",
    "    \n",
    "    page_source = browser.page_source\n",
    "    soup = bs4.BeautifulSoup(page_source, 'html.parser')\n",
    "    event_cells = soup.find_all('div', {'class': 'jobsearch-result'})\n",
    "    \n",
    "    entries_str = []\n",
    "    for e in event_cells:\n",
    "        name = e.select('a > b')[0].text\n",
    "        entries_str.append(name)\n",
    "    return entries_str\n",
    "    \n",
    "print(søg_efter_job('bank'))"
   ]
  },
  {
   "cell_type": "code",
   "execution_count": null,
   "metadata": {},
   "outputs": [],
   "source": [
    "\n"
   ]
  }
 ],
 "metadata": {
  "kernelspec": {
   "display_name": "Python 3",
   "language": "python",
   "name": "python3"
  },
  "language_info": {
   "codemirror_mode": {
    "name": "ipython",
    "version": 3
   },
   "file_extension": ".py",
   "mimetype": "text/x-python",
   "name": "python",
   "nbconvert_exporter": "python",
   "pygments_lexer": "ipython3",
   "version": "3.7.4"
  }
 },
 "nbformat": 4,
 "nbformat_minor": 2
}
