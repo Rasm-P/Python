{
 "cells": [
  {
   "cell_type": "code",
   "execution_count": 65,
   "metadata": {},
   "outputs": [
    {
     "data": {
      "text/plain": [
       "['Hanne', 'Hans']"
      ]
     },
     "execution_count": 65,
     "metadata": {},
     "output_type": "execute_result"
    }
   ],
   "source": [
    "list_names = [\"Hanne\", \"Ole\", \"lars\", \"Hans\", \"Emil\", \"Johan\"]\n",
    "\n",
    "new_list = []\n",
    "\n",
    "for value in list_names:\n",
    "        if \"H\" == value[0]:\n",
    "            new_list.append(value)\n",
    "new_list\n"
   ]
  },
  {
   "cell_type": "code",
   "execution_count": 66,
   "metadata": {},
   "outputs": [
    {
     "data": {
      "text/plain": [
       "[1,\n",
       " 8,\n",
       " 27,\n",
       " 64,\n",
       " 125,\n",
       " 216,\n",
       " 343,\n",
       " 512,\n",
       " 729,\n",
       " 1000,\n",
       " 1331,\n",
       " 1728,\n",
       " 2197,\n",
       " 2744,\n",
       " 3375,\n",
       " 4096,\n",
       " 4913,\n",
       " 5832,\n",
       " 6859,\n",
       " 8000,\n",
       " 9261,\n",
       " 10648,\n",
       " 12167,\n",
       " 13824,\n",
       " 15625,\n",
       " 17576,\n",
       " 19683,\n",
       " 21952,\n",
       " 24389,\n",
       " 27000,\n",
       " 29791,\n",
       " 32768,\n",
       " 35937,\n",
       " 39304,\n",
       " 42875,\n",
       " 46656,\n",
       " 50653,\n",
       " 54872,\n",
       " 59319,\n",
       " 64000,\n",
       " 68921,\n",
       " 74088,\n",
       " 79507,\n",
       " 85184,\n",
       " 91125,\n",
       " 97336,\n",
       " 103823,\n",
       " 110592,\n",
       " 117649,\n",
       " 125000,\n",
       " 132651,\n",
       " 140608,\n",
       " 148877,\n",
       " 157464,\n",
       " 166375,\n",
       " 175616,\n",
       " 185193,\n",
       " 195112,\n",
       " 205379,\n",
       " 216000,\n",
       " 226981,\n",
       " 238328,\n",
       " 250047,\n",
       " 262144,\n",
       " 274625,\n",
       " 287496,\n",
       " 300763,\n",
       " 314432,\n",
       " 328509,\n",
       " 343000,\n",
       " 357911,\n",
       " 373248,\n",
       " 389017,\n",
       " 405224,\n",
       " 421875,\n",
       " 438976,\n",
       " 456533,\n",
       " 474552,\n",
       " 493039,\n",
       " 512000,\n",
       " 531441,\n",
       " 551368,\n",
       " 571787,\n",
       " 592704,\n",
       " 614125,\n",
       " 636056,\n",
       " 658503,\n",
       " 681472,\n",
       " 704969,\n",
       " 729000,\n",
       " 753571,\n",
       " 778688,\n",
       " 804357,\n",
       " 830584,\n",
       " 857375,\n",
       " 884736,\n",
       " 912673,\n",
       " 941192,\n",
       " 970299]"
      ]
     },
     "execution_count": 66,
     "metadata": {},
     "output_type": "execute_result"
    }
   ],
   "source": [
    "value_list = [value ** 3 for value in range(1,100)]\n",
    "value_list"
   ]
  },
  {
   "cell_type": "code",
   "execution_count": 67,
   "metadata": {},
   "outputs": [
    {
     "data": {
      "text/plain": [
       "[(5, 'Hanne'), (3, 'Ole'), (4, 'lars'), (4, 'Hans'), (4, 'Emil'), (5, 'Johan')]"
      ]
     },
     "execution_count": 67,
     "metadata": {},
     "output_type": "execute_result"
    }
   ],
   "source": [
    "tuple_list = []\n",
    "\n",
    "for value in list_names:\n",
    "            tuple_list.append((len(value), value))\n",
    "tuple_list"
   ]
  },
  {
   "cell_type": "code",
   "execution_count": 68,
   "metadata": {},
   "outputs": [
    {
     "data": {
      "text/plain": [
       "['3', '2', '4', '2', '3', '4', '4', '5', '5', '6', '7']"
      ]
     },
     "execution_count": 68,
     "metadata": {},
     "output_type": "execute_result"
    }
   ],
   "source": [
    "nummeric_name = \"sgdfkohkok324234kokdfgk4o5okkhok5o6k7\"\n",
    "nummeric_list = []\n",
    "\n",
    "for value in nummeric_name:\n",
    "        if value.isdigit():\n",
    "            nummeric_list.append(value)\n",
    "nummeric_list"
   ]
  },
  {
   "cell_type": "code",
   "execution_count": 69,
   "metadata": {},
   "outputs": [
    {
     "data": {
      "text/plain": [
       "[{(1, 1), (2, 1), (3, 1), (4, 1), (5, 1), (6, 1)},\n",
       " {(1, 2), (2, 2), (3, 2), (4, 2), (5, 2), (6, 2)},\n",
       " {(1, 3), (2, 3), (3, 3), (4, 3), (5, 3), (6, 3)},\n",
       " {(1, 4), (2, 4), (3, 4), (4, 4), (5, 4), (6, 4)},\n",
       " {(1, 5), (2, 5), (3, 5), (4, 5), (5, 5), (6, 5)},\n",
       " {(1, 6), (2, 6), (3, 6), (4, 6), (5, 6), (6, 6)}]"
      ]
     },
     "execution_count": 69,
     "metadata": {},
     "output_type": "execute_result"
    }
   ],
   "source": [
    "my_set = [{(x+1,y+1) for x in range(6)} for y in range(6)]\n",
    "          \n",
    "my_set"
   ]
  },
  {
   "cell_type": "code",
   "execution_count": 70,
   "metadata": {},
   "outputs": [
    {
     "data": {
      "text/plain": [
       "{'Hanne': 5, 'Ole': 3, 'lars': 4, 'Hans': 4, 'Emil': 4, 'Johan': 5}"
      ]
     },
     "execution_count": 70,
     "metadata": {},
     "output_type": "execute_result"
    }
   ],
   "source": [
    "dictionary_names = {}\n",
    "\n",
    "for value in list_names:\n",
    "            dictionary_names.update({value: len(value)})\n",
    "dictionary_names"
   ]
  },
  {
   "cell_type": "code",
   "execution_count": 71,
   "metadata": {},
   "outputs": [
    {
     "data": {
      "text/plain": [
       "{23423: 153.04574479546957,\n",
       " 34534: 185.83325859490276,\n",
       " 123: 11.090536506409418,\n",
       " 546567: 739.3016975497892,\n",
       " 2342: 48.394214530251446,\n",
       " 7: 2.6457513110645907,\n",
       " 2: 1.4142135623730951,\n",
       " 122: 11.045361017187261,\n",
       " 3: 1.7320508075688772}"
      ]
     },
     "execution_count": 71,
     "metadata": {},
     "output_type": "execute_result"
    }
   ],
   "source": [
    "import math \n",
    "\n",
    "list_numbers = [23423,34534,123,546567,2342,7,2,122,3,2342]\n",
    "dictionary_numbers = {}\n",
    "\n",
    "for value in list_numbers:\n",
    "            dictionary_numbers.update({value: math.sqrt(value)})\n",
    "dictionary_numbers"
   ]
  },
  {
   "cell_type": "code",
   "execution_count": 72,
   "metadata": {},
   "outputs": [
    {
     "data": {
      "text/plain": [
       "{(1, 1): 2.7777777777777777,\n",
       " (1, 2): 2.7777777777777777,\n",
       " (1, 3): 2.7777777777777777,\n",
       " (1, 4): 2.7777777777777777,\n",
       " (1, 5): 2.7777777777777777,\n",
       " (1, 6): 2.7777777777777777,\n",
       " (2, 1): 2.7777777777777777,\n",
       " (2, 2): 2.7777777777777777,\n",
       " (2, 3): 2.7777777777777777,\n",
       " (2, 4): 2.7777777777777777,\n",
       " (2, 5): 2.7777777777777777,\n",
       " (2, 6): 2.7777777777777777,\n",
       " (3, 1): 2.7777777777777777,\n",
       " (3, 2): 2.7777777777777777,\n",
       " (3, 3): 2.7777777777777777,\n",
       " (3, 4): 2.7777777777777777,\n",
       " (3, 5): 2.7777777777777777,\n",
       " (3, 6): 2.7777777777777777,\n",
       " (4, 1): 2.7777777777777777,\n",
       " (4, 2): 2.7777777777777777,\n",
       " (4, 3): 2.7777777777777777,\n",
       " (4, 4): 2.7777777777777777,\n",
       " (4, 5): 2.7777777777777777,\n",
       " (4, 6): 2.7777777777777777,\n",
       " (5, 1): 2.7777777777777777,\n",
       " (5, 2): 2.7777777777777777,\n",
       " (5, 3): 2.7777777777777777,\n",
       " (5, 4): 2.7777777777777777,\n",
       " (5, 5): 2.7777777777777777,\n",
       " (5, 6): 2.7777777777777777,\n",
       " (6, 1): 2.7777777777777777,\n",
       " (6, 2): 2.7777777777777777,\n",
       " (6, 3): 2.7777777777777777,\n",
       " (6, 4): 2.7777777777777777,\n",
       " (6, 5): 2.7777777777777777,\n",
       " (6, 6): 2.7777777777777777}"
      ]
     },
     "execution_count": 72,
     "metadata": {},
     "output_type": "execute_result"
    }
   ],
   "source": [
    "my_set = [(x+1,y+1) for x in range(6) for y in range(6)]\n",
    "dictionary_combo = {}\n",
    "\n",
    "for value in my_set:\n",
    "            dictionary_combo.update({value: 1/36*100})\n",
    "dictionary_combo"
   ]
  },
  {
   "cell_type": "code",
   "execution_count": 73,
   "metadata": {},
   "outputs": [
    {
     "data": {
      "text/plain": [
       "{(1, 1): 2.7777777777777777,\n",
       " (1, 2): 5.555555555555555,\n",
       " (1, 3): 8.333333333333332,\n",
       " (1, 4): 11.11111111111111,\n",
       " (1, 5): 13.88888888888889,\n",
       " (1, 6): 16.666666666666664,\n",
       " (2, 1): 5.555555555555555,\n",
       " (2, 2): 8.333333333333332,\n",
       " (2, 3): 11.11111111111111,\n",
       " (2, 4): 13.88888888888889,\n",
       " (2, 5): 16.666666666666664,\n",
       " (2, 6): 13.88888888888889,\n",
       " (3, 1): 8.333333333333332,\n",
       " (3, 2): 11.11111111111111,\n",
       " (3, 3): 13.88888888888889,\n",
       " (3, 4): 16.666666666666664,\n",
       " (3, 5): 13.88888888888889,\n",
       " (3, 6): 11.11111111111111,\n",
       " (4, 1): 11.11111111111111,\n",
       " (4, 2): 13.88888888888889,\n",
       " (4, 3): 16.666666666666664,\n",
       " (4, 4): 13.88888888888889,\n",
       " (4, 5): 11.11111111111111,\n",
       " (4, 6): 8.333333333333332,\n",
       " (5, 1): 13.88888888888889,\n",
       " (5, 2): 16.666666666666664,\n",
       " (5, 3): 13.88888888888889,\n",
       " (5, 4): 11.11111111111111,\n",
       " (5, 5): 8.333333333333332,\n",
       " (5, 6): 5.555555555555555,\n",
       " (6, 1): 16.666666666666664,\n",
       " (6, 2): 13.88888888888889,\n",
       " (6, 3): 11.11111111111111,\n",
       " (6, 4): 8.333333333333332,\n",
       " (6, 5): 5.555555555555555,\n",
       " (6, 6): 2.7777777777777777}"
      ]
     },
     "execution_count": 73,
     "metadata": {},
     "output_type": "execute_result"
    }
   ],
   "source": [
    "my_set = [(x+1,y+1) for x in range(6) for y in range(6)]\n",
    "dictionary_combo = {}\n",
    "\n",
    "value_count = 0\n",
    "\n",
    "for value in my_set:\n",
    "    value_count = 0\n",
    "    for v2 in my_set:\n",
    "        if v2[0]+v2[1]==value[0]+value[1]:\n",
    "            value_count += 1\n",
    "        dictionary_combo.update({value: value_count/36*100})\n",
    "dictionary_combo"
   ]
  },
  {
   "cell_type": "code",
   "execution_count": null,
   "metadata": {},
   "outputs": [],
   "source": []
  }
 ],
 "metadata": {
  "kernelspec": {
   "display_name": "Python 3",
   "language": "python",
   "name": "python3"
  },
  "language_info": {
   "codemirror_mode": {
    "name": "ipython",
    "version": 3
   },
   "file_extension": ".py",
   "mimetype": "text/x-python",
   "name": "python",
   "nbconvert_exporter": "python",
   "pygments_lexer": "ipython3",
   "version": "3.7.4"
  }
 },
 "nbformat": 4,
 "nbformat_minor": 2
}
