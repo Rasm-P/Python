{
 "cells": [
  {
   "cell_type": "code",
   "execution_count": 6,
   "metadata": {},
   "outputs": [
    {
     "name": "stdout",
     "output_type": "stream",
     "text": [
      "Jonna\n",
      "Jack\n",
      "Janni\n",
      "Jesper\n"
     ]
    }
   ],
   "source": [
    "#1\n",
    "\n",
    "names = [\"Jonna\",\"Jack\",\"Janni\",\"Jesper\"]\n",
    "\n",
    "def no_loop(item):\n",
    "    if len(item) == 0:\n",
    "        return\n",
    "    print(item[0])\n",
    "    item.remove(item[0])\n",
    "    no_loop(item)\n",
    "    \n",
    "no_loop(names)"
   ]
  },
  {
   "cell_type": "code",
   "execution_count": 38,
   "metadata": {},
   "outputs": [
    {
     "name": "stdout",
     "output_type": "stream",
     "text": [
      "dsffgdfgfsdf 52\n"
     ]
    }
   ],
   "source": [
    "#2\n",
    "\n",
    "def any_arg(*arg):\n",
    "    num_sum = int()\n",
    "    concat = ''\n",
    "    for value in arg: \n",
    "        if type(value) == str:\n",
    "            concat += value\n",
    "        else:\n",
    "            num_sum += value\n",
    "    print(concat, num_sum)\n",
    "            \n",
    "any_arg(\"dsf\",\"fgdfg\",\"fsdf\",3,5,6,7,8,23,)"
   ]
  },
  {
   "cell_type": "code",
   "execution_count": null,
   "metadata": {},
   "outputs": [],
   "source": []
  }
 ],
 "metadata": {
  "kernelspec": {
   "display_name": "Python 3",
   "language": "python",
   "name": "python3"
  },
  "language_info": {
   "codemirror_mode": {
    "name": "ipython",
    "version": 3
   },
   "file_extension": ".py",
   "mimetype": "text/x-python",
   "name": "python",
   "nbconvert_exporter": "python",
   "pygments_lexer": "ipython3",
   "version": "3.7.4"
  }
 },
 "nbformat": 4,
 "nbformat_minor": 2
}
