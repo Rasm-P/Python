{
 "cells": [
  {
   "cell_type": "code",
   "execution_count": 3,
   "metadata": {},
   "outputs": [
    {
     "name": "stdout",
     "output_type": "stream",
     "text": [
      "Name: \n",
      "Type: Graph\n",
      "Number of nodes: 81306\n",
      "Number of edges: 1342310\n",
      "Average degree:  33.0187\n"
     ]
    }
   ],
   "source": [
    "import networkx as nx\n",
    "import numpy as np\n",
    "\n",
    "g = nx.read_edgelist('twitter_combined.txt')\n",
    "print(nx.info(g))"
   ]
  },
  {
   "cell_type": "code",
   "execution_count": 44,
   "metadata": {},
   "outputs": [
    {
     "name": "stdout",
     "output_type": "stream",
     "text": [
      "1758\n",
      "115485051\n"
     ]
    }
   ],
   "source": [
    "#Which node in the twitter data has the most connections?\n",
    "\n",
    "in_deg_vec = np.array([g.degree(n) for n in g.nodes()])\n",
    "max_ind_deg = in_deg_vec.max()\n",
    "\n",
    "print(np.argmax(in_deg_vec))\n",
    "print(list(g.nodes())[np.argmax(in_deg_vec)])"
   ]
  },
  {
   "cell_type": "code",
   "execution_count": 43,
   "metadata": {},
   "outputs": [
    {
     "name": "stdout",
     "output_type": "stream",
     "text": [
      "most interesting node: 115485051\n"
     ]
    }
   ],
   "source": [
    "nodes_list = np.array(__builtins__.list(g.nodes()))\n",
    "most_interesting = nodes_list[np.argmax(in_deg_vec)]\n",
    "print(f\"most interesting node: {most_interesting}\")\n"
   ]
  }
 ],
 "metadata": {
  "kernelspec": {
   "display_name": "Python 3",
   "language": "python",
   "name": "python3"
  },
  "language_info": {
   "codemirror_mode": {
    "name": "ipython",
    "version": 3
   },
   "file_extension": ".py",
   "mimetype": "text/x-python",
   "name": "python",
   "nbconvert_exporter": "python",
   "pygments_lexer": "ipython3",
   "version": "3.7.4"
  }
 },
 "nbformat": 4,
 "nbformat_minor": 2
}
