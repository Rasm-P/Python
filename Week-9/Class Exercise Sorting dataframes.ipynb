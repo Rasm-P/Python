{
 "cells": [
  {
   "cell_type": "code",
   "execution_count": 28,
   "metadata": {},
   "outputs": [
    {
     "data": {
      "text/plain": [
       "104           Korea, Rep.\n",
       "98                  Japan\n",
       "73                Germany\n",
       "205        United Kingdom\n",
       "161    Russian Federation\n",
       "68                 France\n",
       "89                  India\n",
       "166          Saudi Arabia\n",
       "41                  China\n",
       "206         United States\n",
       "Name: Country Name, dtype: object"
      ]
     },
     "execution_count": 28,
     "metadata": {},
     "output_type": "execute_result"
    }
   ],
   "source": [
    "from glob import glob\n",
    "import pandas as pd\n",
    "\n",
    "#1 For 2018 find the 10 countries with the highest military expenditure in USD\n",
    "milit_files = glob('fac63dc3-30ad-4715-a313-a36063bdd7f9_Data.csv')\n",
    "expenditure_csv = milit_files[0]\n",
    "expenditures = pd.read_csv(expenditure_csv)\n",
    "expenditures\n",
    "\n",
    "df = expenditures.iloc[0:-52]\n",
    "df = df[-df['2018 [YR2018]'].apply(lambda x: (x == '..'))]\n",
    "df = df[df['2018 [YR2018]'].apply(lambda x: (x == x))]\n",
    "df['2018 [YR2018]'] = df['2018 [YR2018]'].astype(float)\n",
    "df = df.sort_values(by='2018 [YR2018]')\n",
    "\n",
    "df['Country Name'].iloc[-10:]"
   ]
  },
  {
   "cell_type": "code",
   "execution_count": null,
   "metadata": {},
   "outputs": [],
   "source": [
    "#2 For 2018 find the 10 countries with the highest military expenditure per capita\n"
   ]
  }
 ],
 "metadata": {
  "kernelspec": {
   "display_name": "Python 3",
   "language": "python",
   "name": "python3"
  },
  "language_info": {
   "codemirror_mode": {
    "name": "ipython",
    "version": 3
   },
   "file_extension": ".py",
   "mimetype": "text/x-python",
   "name": "python",
   "nbconvert_exporter": "python",
   "pygments_lexer": "ipython3",
   "version": "3.7.4"
  }
 },
 "nbformat": 4,
 "nbformat_minor": 2
}
