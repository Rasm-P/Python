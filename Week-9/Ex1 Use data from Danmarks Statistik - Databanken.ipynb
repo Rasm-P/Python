{
 "cells": [
  {
   "cell_type": "code",
   "execution_count": 125,
   "metadata": {},
   "outputs": [
    {
     "data": {
      "text/plain": [
       "<matplotlib.axes._subplots.AxesSubplot at 0x1bbe809c908>"
      ]
     },
     "execution_count": 125,
     "metadata": {},
     "output_type": "execute_result"
    },
    {
     "data": {
      "image/png": "[encoded data removed]",
      "text/plain": [
       "<Figure size 432x288 with 1 Axes>"
      ]
     },
     "metadata": {
      "needs_background": "light"
     },
     "output_type": "display_data"
    }
   ],
   "source": [
    "#5 With data aggregation and data visualization answer the following questions:\n",
    "from glob import glob\n",
    "import pandas as pd\n",
    "\n",
    "#A\n",
    "milit_files = glob('Ex1 Use data from Danmarks Statistik - Databanken FOLK1A.csv')\n",
    "expenditure_csv = milit_files[0]\n",
    "expenditures = pd.read_csv(expenditure_csv, sep = ';')\n",
    "expenditures\n",
    "\n",
    "for element in range(1,len(expenditures['INDHOLD'])):\n",
    "    expenditures.loc[element,'INDHOLD'] = ((float(expenditures['INDHOLD'][element]) / float(expenditures['INDHOLD'][0])-1)*100)\n",
    "    \n",
    "expenditures = expenditures[:][1:]\n",
    "expenditures\n",
    "expenditures.plot(x=\"TID\", y=\"INDHOLD\")\n"
   ]
  },
  {
   "cell_type": "code",
   "execution_count": 126,
   "metadata": {},
   "outputs": [
    {
     "data": {
      "text/html": [
       "<div>\n",
       "<style scoped>\n",
       "    .dataframe tbody tr th:only-of-type {\n",
       "        vertical-align: middle;\n",
       "    }\n",
       "\n",
       "    .dataframe tbody tr th {\n",
       "        vertical-align: top;\n",
       "    }\n",
       "\n",
       "    .dataframe thead th {\n",
       "        text-align: right;\n",
       "    }\n",
       "</style>\n",
       "<table border=\"1\" class=\"dataframe\">\n",
       "  <thead>\n",
       "    <tr style=\"text-align: right;\">\n",
       "      <th></th>\n",
       "      <th>CIVILSTAND</th>\n",
       "      <th>OMRÅDE</th>\n",
       "      <th>TID</th>\n",
       "      <th>INDHOLD</th>\n",
       "    </tr>\n",
       "  </thead>\n",
       "  <tbody>\n",
       "    <tr>\n",
       "      <td>104</td>\n",
       "      <td>I alt</td>\n",
       "      <td>Aalborg</td>\n",
       "      <td>2020K1</td>\n",
       "      <td>54.448463</td>\n",
       "    </tr>\n",
       "    <tr>\n",
       "      <td>58</td>\n",
       "      <td>I alt</td>\n",
       "      <td>Odense</td>\n",
       "      <td>2020K1</td>\n",
       "      <td>54.901291</td>\n",
       "    </tr>\n",
       "    <tr>\n",
       "      <td>3</td>\n",
       "      <td>I alt</td>\n",
       "      <td>Frederiksberg</td>\n",
       "      <td>2020K1</td>\n",
       "      <td>58.272374</td>\n",
       "    </tr>\n",
       "    <tr>\n",
       "      <td>84</td>\n",
       "      <td>I alt</td>\n",
       "      <td>Aarhus</td>\n",
       "      <td>2020K1</td>\n",
       "      <td>59.576894</td>\n",
       "    </tr>\n",
       "    <tr>\n",
       "      <td>2</td>\n",
       "      <td>I alt</td>\n",
       "      <td>København</td>\n",
       "      <td>2020K1</td>\n",
       "      <td>65.235791</td>\n",
       "    </tr>\n",
       "  </tbody>\n",
       "</table>\n",
       "</div>"
      ],
      "text/plain": [
       "    CIVILSTAND         OMRÅDE     TID    INDHOLD\n",
       "104      I alt        Aalborg  2020K1  54.448463\n",
       "58       I alt         Odense  2020K1  54.901291\n",
       "3        I alt  Frederiksberg  2020K1  58.272374\n",
       "84       I alt         Aarhus  2020K1  59.576894\n",
       "2        I alt      København  2020K1  65.235791"
      ]
     },
     "execution_count": 126,
     "metadata": {},
     "output_type": "execute_result"
    },
    {
     "data": {
      "image/png": "[encoded data removed]",
      "text/plain": [
       "<Figure size 432x288 with 1 Axes>"
      ]
     },
     "metadata": {
      "needs_background": "light"
     },
     "output_type": "display_data"
    }
   ],
   "source": [
    "#B Which of the 5 biggest cities has the highest percentage of 'Never Married'?\n",
    "\n",
    "files = glob('highest percentage of Never Married FOLK1A.csv')\n",
    "civilstand_csv = files[0]\n",
    "civilstand = pd.read_csv(civilstand_csv, sep = ';')\n",
    "civilstand\n",
    "\n",
    "alle_civilstand = civilstand[civilstand['CIVILSTAND'] == 'I alt']\n",
    "alle_civilstand\n",
    "\n",
    "\n",
    "ugift_civilstand = civilstand[civilstand['CIVILSTAND'] == 'Ugift']\n",
    "ugift_civilstand\n",
    "\n",
    "\n",
    "civilstand_list = alle_civilstand\n",
    "\n",
    "for element in range(len(civilstand_list['INDHOLD'])):\n",
    "    civilstand_list.loc[element,'INDHOLD'] = (float(ugift_civilstand['INDHOLD'][element+len(alle_civilstand)]) / (float(alle_civilstand['INDHOLD'][element]))*100)\n",
    "    \n",
    "civilstand_list = civilstand_list[-civilstand_list['OMRÅDE'].apply(lambda x: (x == 'Hele landet'))]\n",
    "civilstand_list = civilstand_list[-civilstand_list['OMRÅDE'].apply(lambda x: (x[0:6] == 'Region'))]\n",
    "civilstand_list = civilstand_list.sort_values(by='INDHOLD')   \n",
    "civilstand_list = civilstand_list[-6:][1:]\n",
    "civilstand_list\n",
    "civilstand_list.plot(x=\"OMRÅDE\", y=\"INDHOLD\")\n",
    "\n",
    "civilstand_list"
   ]
  },
  {
   "cell_type": "code",
   "execution_count": 140,
   "metadata": {},
   "outputs": [
    {
     "data": {
      "text/html": [
       "<div>\n",
       "<style scoped>\n",
       "    .dataframe tbody tr th:only-of-type {\n",
       "        vertical-align: middle;\n",
       "    }\n",
       "\n",
       "    .dataframe tbody tr th {\n",
       "        vertical-align: top;\n",
       "    }\n",
       "\n",
       "    .dataframe thead th {\n",
       "        text-align: right;\n",
       "    }\n",
       "</style>\n",
       "<table border=\"1\" class=\"dataframe\">\n",
       "  <thead>\n",
       "    <tr style=\"text-align: right;\">\n",
       "      <th></th>\n",
       "      <th>OMRÅDE</th>\n",
       "      <th>TID</th>\n",
       "      <th>CIVILSTAND</th>\n",
       "      <th>INDHOLD</th>\n",
       "    </tr>\n",
       "  </thead>\n",
       "  <tbody>\n",
       "    <tr>\n",
       "      <td>0</td>\n",
       "      <td>København</td>\n",
       "      <td>2008K1</td>\n",
       "      <td>I alt</td>\n",
       "      <td>509861</td>\n",
       "    </tr>\n",
       "    <tr>\n",
       "      <td>1</td>\n",
       "      <td>København</td>\n",
       "      <td>2008K1</td>\n",
       "      <td>Ugift</td>\n",
       "      <td>309661</td>\n",
       "    </tr>\n",
       "    <tr>\n",
       "      <td>2</td>\n",
       "      <td>København</td>\n",
       "      <td>2008K1</td>\n",
       "      <td>Gift/separeret</td>\n",
       "      <td>128556</td>\n",
       "    </tr>\n",
       "    <tr>\n",
       "      <td>3</td>\n",
       "      <td>København</td>\n",
       "      <td>2008K1</td>\n",
       "      <td>Enke/enkemand</td>\n",
       "      <td>21555</td>\n",
       "    </tr>\n",
       "    <tr>\n",
       "      <td>4</td>\n",
       "      <td>København</td>\n",
       "      <td>2008K1</td>\n",
       "      <td>Fraskilt</td>\n",
       "      <td>50089</td>\n",
       "    </tr>\n",
       "    <tr>\n",
       "      <td>...</td>\n",
       "      <td>...</td>\n",
       "      <td>...</td>\n",
       "      <td>...</td>\n",
       "      <td>...</td>\n",
       "    </tr>\n",
       "    <tr>\n",
       "      <td>240</td>\n",
       "      <td>København</td>\n",
       "      <td>2020K1</td>\n",
       "      <td>I alt</td>\n",
       "      <td>632340</td>\n",
       "    </tr>\n",
       "    <tr>\n",
       "      <td>241</td>\n",
       "      <td>København</td>\n",
       "      <td>2020K1</td>\n",
       "      <td>Ugift</td>\n",
       "      <td>412512</td>\n",
       "    </tr>\n",
       "    <tr>\n",
       "      <td>242</td>\n",
       "      <td>København</td>\n",
       "      <td>2020K1</td>\n",
       "      <td>Gift/separeret</td>\n",
       "      <td>150458</td>\n",
       "    </tr>\n",
       "    <tr>\n",
       "      <td>243</td>\n",
       "      <td>København</td>\n",
       "      <td>2020K1</td>\n",
       "      <td>Enke/enkemand</td>\n",
       "      <td>14630</td>\n",
       "    </tr>\n",
       "    <tr>\n",
       "      <td>244</td>\n",
       "      <td>København</td>\n",
       "      <td>2020K1</td>\n",
       "      <td>Fraskilt</td>\n",
       "      <td>54740</td>\n",
       "    </tr>\n",
       "  </tbody>\n",
       "</table>\n",
       "<p>245 rows × 4 columns</p>\n",
       "</div>"
      ],
      "text/plain": [
       "        OMRÅDE     TID      CIVILSTAND  INDHOLD\n",
       "0    København  2008K1           I alt   509861\n",
       "1    København  2008K1           Ugift   309661\n",
       "2    København  2008K1  Gift/separeret   128556\n",
       "3    København  2008K1   Enke/enkemand    21555\n",
       "4    København  2008K1        Fraskilt    50089\n",
       "..         ...     ...             ...      ...\n",
       "240  København  2020K1           I alt   632340\n",
       "241  København  2020K1           Ugift   412512\n",
       "242  København  2020K1  Gift/separeret   150458\n",
       "243  København  2020K1   Enke/enkemand    14630\n",
       "244  København  2020K1        Fraskilt    54740\n",
       "\n",
       "[245 rows x 4 columns]"
      ]
     },
     "execution_count": 140,
     "metadata": {},
     "output_type": "execute_result"
    },
    {
     "data": {
      "image/png": "[encoded data removed]",
      "text/plain": [
       "<Figure size 432x288 with 1 Axes>"
      ]
     },
     "metadata": {
      "needs_background": "light"
     },
     "output_type": "display_data"
    }
   ],
   "source": [
    "#C Show a bar chart of changes in marrital status in Copenhagen from 2008 till now\n",
    "import matplotlib.pyplot as plt\n",
    "\n",
    "files = glob('changes in marrital status in Copenhagen FOLK1A.csv')\n",
    "civilstand_csv = files[0]\n",
    "civilstand = pd.read_csv(civilstand_csv, sep = ';')\n",
    "civilstand\n",
    "\n",
    "gift_civilstand = civilstand[civilstand['CIVILSTAND'] == 'Gift/separeret']\n",
    "\n",
    "ugift_civilstand = civilstand[civilstand['CIVILSTAND'] == 'Ugift']\n",
    "\n",
    "enke_civilstand = civilstand[civilstand['CIVILSTAND'] == 'Enke/enkemand']\n",
    "\n",
    "fraskilt_civilstand = civilstand[civilstand['CIVILSTAND'] == 'Fraskilt']\n",
    "\n",
    "\n",
    "p1 = plt.bar(ugift_civilstand['TID'], ugift_civilstand['INDHOLD'], width=0.5, align='center' , color='red')\n",
    "p2 = plt.bar(gift_civilstand['TID'], gift_civilstand['INDHOLD'], width=0.5, align='center' , color='blue')\n",
    "p3 = plt.bar(fraskilt_civilstand['TID'], fraskilt_civilstand['INDHOLD'], width=0.5, align='center' , color='green')\n",
    "p4 = plt.bar(enke_civilstand['TID'], enke_civilstand['INDHOLD'], width=0.5, align='center' , color='orange')\n",
    "\n",
    "plt.legend([p1,p2,p3,p4],['Ugift','Gift/separeret','Fraskilt','Enke/enkemand'],loc=1)\n",
    "\n",
    "civilstand"
   ]
  },
  {
   "cell_type": "code",
   "execution_count": 160,
   "metadata": {},
   "outputs": [
    {
     "data": {
      "text/plain": [
       "<matplotlib.legend.Legend at 0x1bbeb99f1c8>"
      ]
     },
     "execution_count": 160,
     "metadata": {},
     "output_type": "execute_result"
    },
    {
     "data": {
      "image/png": "[encoded data removed]",
      "text/plain": [
       "<Figure size 432x288 with 1 Axes>"
      ]
     },
     "metadata": {
      "needs_background": "light"
     },
     "output_type": "display_data"
    }
   ],
   "source": [
    "#D Show a bar chart of 'Married' and 'Never Married' for all ages in DK (Hint: 2 bars of different color)\n",
    "\n",
    "files = glob('Married and Never Married for all ages FOLK1A.csv')\n",
    "civilstand_csv = files[0]\n",
    "civilstand = pd.read_csv(civilstand_csv, sep = ';')\n",
    "civilstand\n",
    "\n",
    "gift_civilstand = civilstand[civilstand['CIVILSTAND'] == 'Gift/separeret'][1:]\n",
    "\n",
    "ugift_civilstand = civilstand[civilstand['CIVILSTAND'] == 'Ugift'][1:]\n",
    "\n",
    "p1 = plt.bar(gift_civilstand['ALDER'], gift_civilstand['INDHOLD'], width=0.5, align='center' , color='blue')\n",
    "p2 = plt.bar(ugift_civilstand['ALDER'], ugift_civilstand['INDHOLD'], width=0.5, align='center' , color='red')\n",
    "\n",
    "plt.legend([p1,p2],['Gift/separeret','Ugift'],loc=1)"
   ]
  },
  {
   "cell_type": "code",
   "execution_count": null,
   "metadata": {},
   "outputs": [],
   "source": []
  }
 ],
 "metadata": {
  "kernelspec": {
   "display_name": "Python 3",
   "language": "python",
   "name": "python3"
  },
  "language_info": {
   "codemirror_mode": {
    "name": "ipython",
    "version": 3
   },
   "file_extension": ".py",
   "mimetype": "text/x-python",
   "name": "python",
   "nbconvert_exporter": "python",
   "pygments_lexer": "ipython3",
   "version": "3.7.4"
  }
 },
 "nbformat": 4,
 "nbformat_minor": 2
}
