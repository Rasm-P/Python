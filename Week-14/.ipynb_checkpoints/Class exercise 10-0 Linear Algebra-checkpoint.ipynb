{
 "cells": [
  {
   "cell_type": "code",
   "execution_count": 15,
   "metadata": {},
   "outputs": [
    {
     "name": "stdout",
     "output_type": "stream",
     "text": [
      "         Is  Juice  Kakao  Lagkager\n",
      "Paula     4      2      3         2\n",
      "Peter     2      5      0         4\n",
      "Pandora   5      3      4         5\n",
      "Pietro    1      8      9         1\n",
      "          Netto  Fakta\n",
      "Is        10.50   4.00\n",
      "Juice      2.25   4.50\n",
      "Kakao      4.50   6.25\n",
      "Lagkager  33.50  20.00\n"
     ]
    },
    {
     "data": {
      "text/html": [
       "<div>\n",
       "<style scoped>\n",
       "    .dataframe tbody tr th:only-of-type {\n",
       "        vertical-align: middle;\n",
       "    }\n",
       "\n",
       "    .dataframe tbody tr th {\n",
       "        vertical-align: top;\n",
       "    }\n",
       "\n",
       "    .dataframe thead th {\n",
       "        text-align: right;\n",
       "    }\n",
       "</style>\n",
       "<table border=\"1\" class=\"dataframe\">\n",
       "  <thead>\n",
       "    <tr style=\"text-align: right;\">\n",
       "      <th></th>\n",
       "      <th>Netto</th>\n",
       "      <th>Fakta</th>\n",
       "    </tr>\n",
       "  </thead>\n",
       "  <tbody>\n",
       "    <tr>\n",
       "      <td>Paula</td>\n",
       "      <td>127.00</td>\n",
       "      <td>83.75</td>\n",
       "    </tr>\n",
       "    <tr>\n",
       "      <td>Peter</td>\n",
       "      <td>166.25</td>\n",
       "      <td>110.50</td>\n",
       "    </tr>\n",
       "    <tr>\n",
       "      <td>Pandora</td>\n",
       "      <td>244.75</td>\n",
       "      <td>158.50</td>\n",
       "    </tr>\n",
       "    <tr>\n",
       "      <td>Pietro</td>\n",
       "      <td>102.50</td>\n",
       "      <td>116.25</td>\n",
       "    </tr>\n",
       "  </tbody>\n",
       "</table>\n",
       "</div>"
      ],
      "text/plain": [
       "          Netto   Fakta\n",
       "Paula    127.00   83.75\n",
       "Peter    166.25  110.50\n",
       "Pandora  244.75  158.50\n",
       "Pietro   102.50  116.25"
      ]
     },
     "execution_count": 15,
     "metadata": {},
     "output_type": "execute_result"
    }
   ],
   "source": [
    "#Given the below dictionarys find out where each of the 4 people find the cheapest shopping according to their needs.\n",
    "\n",
    "import numpy as np\n",
    "import pandas as pd\n",
    "\n",
    "shoppers = {\n",
    "'Paula':{'Is':4,'Juice':2,'Kakao':3,'Lagkager':2},\n",
    "'Peter':{'Is':2,'Juice':5,'Kakao':0, 'Lagkager':4},\n",
    "'Pandora':{'Is':5,'Juice':3, 'Kakao':4, 'Lagkager':5},\n",
    "'Pietro':{'Is':1,'Juice':8, 'Kakao':9, 'Lagkager':1}\n",
    "}\n",
    "shop_prices = {\n",
    "    'Netto': {'Is':10.50,'Juice':2.25,'Kakao':4.50,'Lagkager':33.50},\n",
    "    'Fakta': {'Is':4.00,'Juice':4.50,'Kakao':6.25,'Lagkager':20.00}\n",
    "}\n",
    "\n",
    "shoppers = pd.DataFrame(shoppers).T\n",
    "shop_prices = pd.DataFrame(shop_prices)\n",
    "\n",
    "print(shoppers)\n",
    "print(shop_prices)\n",
    "\n",
    "#Rækkerne skal svare til kolonnerne\n",
    "matrix_data = shoppers.dot(shop_prices)\n",
    "matrix_data"
   ]
  },
  {
   "cell_type": "code",
   "execution_count": null,
   "metadata": {},
   "outputs": [],
   "source": []
  }
 ],
 "metadata": {
  "kernelspec": {
   "display_name": "Python 3",
   "language": "python",
   "name": "python3"
  },
  "language_info": {
   "codemirror_mode": {
    "name": "ipython",
    "version": 3
   },
   "file_extension": ".py",
   "mimetype": "text/x-python",
   "name": "python",
   "nbconvert_exporter": "python",
   "pygments_lexer": "ipython3",
   "version": "3.7.4"
  }
 },
 "nbformat": 4,
 "nbformat_minor": 2
}
