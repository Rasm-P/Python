{
 "cells": [
  {
   "cell_type": "code",
   "execution_count": 15,
   "metadata": {},
   "outputs": [
    {
     "name": "stdout",
     "output_type": "stream",
     "text": [
      "17435 is the index for wood\n",
      "wood occurs [[37]] times in the text\n",
      "[[0 0 0 ... 0 0 0]\n",
      " [0 0 0 ... 0 0 0]\n",
      " [0 0 0 ... 0 0 0]\n",
      " ...\n",
      " [0 0 0 ... 0 0 0]\n",
      " [0 0 0 ... 0 0 0]\n",
      " [0 0 0 ... 0 0 0]]\n"
     ]
    }
   ],
   "source": [
    "#Use the CountVectorizer from sklearn.feature_extraction to read the book data/moby_dick.txt\n",
    "#- How many times does the word 'wood' appear?\n",
    "\n",
    "from sklearn.feature_extraction.text import CountVectorizer\n",
    "\n",
    "f = open(\"moby_dick.txt\", \"r\",encoding =\"utf8\")\n",
    "moby_list = [x for x in f]\n",
    "\n",
    "vectorizer = CountVectorizer()\n",
    "\n",
    "fit = vectorizer.fit_transform(moby_list)\n",
    "res = fit.todense() # returns a numpy array of same shape\"\n",
    "document_idx = vectorizer.vocabulary_['wood']\n",
    "document_count = sum(res[:,document_idx]) # sum all row cells where column == index\n",
    "print('{} is the index for wood'.format(document_idx))\n",
    "print('wood occurs {} times in the text'.format(document_count))\n",
    "mat = fit.toarray()\n",
    "print(mat)"
   ]
  },
  {
   "cell_type": "code",
   "execution_count": 28,
   "metadata": {},
   "outputs": [
    {
     "name": "stdout",
     "output_type": "stream",
     "text": [
      "(1797, 64)\n",
      "[[ 0.  0.  5. ...  0.  0.  0.]\n",
      " [ 0.  0.  0. ... 10.  0.  0.]\n",
      " [ 0.  0.  0. ... 16.  9.  0.]\n",
      " ...\n",
      " [ 0.  0.  1. ...  6.  0.  0.]\n",
      " [ 0.  0.  2. ... 12.  0.  0.]\n",
      " [ 0.  0. 10. ... 12.  1.  0.]]\n"
     ]
    },
    {
     "data": {
      "text/plain": [
       "<matplotlib.image.AxesImage at 0x1bab3cccdc8>"
      ]
     },
     "execution_count": 28,
     "metadata": {},
     "output_type": "execute_result"
    },
    {
     "data": {
      "image/png": "[encoded data removed]",
      "text/plain": [
       "<Figure size 432x288 with 1 Axes>"
      ]
     },
     "metadata": {
      "needs_background": "light"
     },
     "output_type": "display_data"
    }
   ],
   "source": [
    "#Use the load_digits function from the sklearn.datasets package to load a sklearn dataset\n",
    "#- The package contains .data of 8x8 images. Extract the first image in an 8x8 array\n",
    "\n",
    "from sklearn.datasets import load_digits\n",
    "import matplotlib.pyplot as plt\n",
    "\n",
    "sklearn_data = load_digits()\n",
    "image = sklearn_data.data\n",
    "print(image.shape)\n",
    "print(image)\n",
    "\n",
    "#- Use the plt.imshow function to plot the image\n",
    "\n",
    "plt.imshow(image)"
   ]
  },
  {
   "cell_type": "code",
   "execution_count": null,
   "metadata": {},
   "outputs": [],
   "source": []
  }
 ],
 "metadata": {
  "kernelspec": {
   "display_name": "Python 3",
   "language": "python",
   "name": "python3"
  },
  "language_info": {
   "codemirror_mode": {
    "name": "ipython",
    "version": 3
   },
   "file_extension": ".py",
   "mimetype": "text/x-python",
   "name": "python",
   "nbconvert_exporter": "python",
   "pygments_lexer": "ipython3",
   "version": "3.7.4"
  }
 },
 "nbformat": 4,
 "nbformat_minor": 2
}
