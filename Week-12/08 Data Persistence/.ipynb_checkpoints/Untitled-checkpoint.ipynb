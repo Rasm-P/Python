{
 "cells": [
  {
   "cell_type": "code",
   "execution_count": 3,
   "metadata": {},
   "outputs": [
    {
     "data": {
      "text/plain": [
       "1"
      ]
     },
     "execution_count": 3,
     "metadata": {},
     "output_type": "execute_result"
    }
   ],
   "source": [
    "from flask import Flask, jsonify, abort, request\n",
    "import datetime\n",
    "import pymysql\n",
    "\n",
    "app = Flask(__name__)\n",
    "\n",
    "cnx = pymysql.connect(user='dev', password='ax2',host='127.0.0.1',port=3307,db='test') \n",
    "table = 'names'\n",
    "\n",
    "def fetch_by_id(name_id, table_name):\n",
    "    name = {}\n",
    "    cursor = cnx.cursor()\n",
    "    query = (\"SELECT * FROM test.\"+table_name+\" WHERE id = %s\")\n",
    "    cursor.execute(query, name_id)\n",
    "    name = cursor.fetchall()\n",
    "    cursor.close()\n",
    "    cnx.close()\n",
    "    return name\n",
    "\n",
    "fetch_by_id(1, table)"
   ]
  },
  {
   "cell_type": "code",
   "execution_count": null,
   "metadata": {},
   "outputs": [],
   "source": []
  }
 ],
 "metadata": {
  "kernelspec": {
   "display_name": "Python 3",
   "language": "python",
   "name": "python3"
  },
  "language_info": {
   "codemirror_mode": {
    "name": "ipython",
    "version": 3
   },
   "file_extension": ".py",
   "mimetype": "text/x-python",
   "name": "python",
   "nbconvert_exporter": "python",
   "pygments_lexer": "ipython3",
   "version": "3.7.4"
  }
 },
 "nbformat": 4,
 "nbformat_minor": 2
}
