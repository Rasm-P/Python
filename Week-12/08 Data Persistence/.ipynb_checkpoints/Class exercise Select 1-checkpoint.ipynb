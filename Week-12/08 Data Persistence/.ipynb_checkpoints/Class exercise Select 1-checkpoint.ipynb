{
 "cells": [
  {
   "cell_type": "code",
   "execution_count": 12,
   "metadata": {},
   "outputs": [
    {
     "name": "stdout",
     "output_type": "stream",
     "text": [
      "53 Hitting a ball with a ketcher Tennis\n",
      "54 Swimming in warter og in a pool Swimming\n"
     ]
    }
   ],
   "source": [
    "#Class exercise Select 1\n",
    "#- Choose a database and a table with content from your mysql server (running on vagrant)\n",
    "#- Using pymysql from a jupyter notebook read and print the content of the table\n",
    "\n",
    "import datetime\n",
    "import pymysql\n",
    "\n",
    "cnx = pymysql.connect(user='dev', password='ax2',host='127.0.0.1',port=3307,db='cba_test')  \n",
    "\n",
    "cursor = cnx.cursor()\n",
    "\n",
    "query = (\"SELECT * FROM cba_test.hobbies\")\n",
    "\n",
    "cursor.execute(query)\n",
    "\n",
    "for (id, description, name) in cursor:\n",
    "    print(id, description, name)\n",
    "\n",
    "cursor.close()\n",
    "cnx.close()"
   ]
  },
  {
   "cell_type": "code",
   "execution_count": null,
   "metadata": {},
   "outputs": [],
   "source": []
  }
 ],
 "metadata": {
  "kernelspec": {
   "display_name": "Python 3",
   "language": "python",
   "name": "python3"
  },
  "language_info": {
   "codemirror_mode": {
    "name": "ipython",
    "version": 3
   },
   "file_extension": ".py",
   "mimetype": "text/x-python",
   "name": "python",
   "nbconvert_exporter": "python",
   "pygments_lexer": "ipython3",
   "version": "3.7.4"
  }
 },
 "nbformat": 4,
 "nbformat_minor": 2
}
