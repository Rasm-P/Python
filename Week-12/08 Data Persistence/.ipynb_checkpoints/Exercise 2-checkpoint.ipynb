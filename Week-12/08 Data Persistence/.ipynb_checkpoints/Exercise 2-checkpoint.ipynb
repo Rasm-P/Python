{
 "cells": [
  {
   "cell_type": "code",
   "execution_count": 11,
   "metadata": {},
   "outputs": [],
   "source": [
    "#Exercise 2\n",
    "#- Create a function that can take a dict and a table name and persist all values of the dict into the table columns corresponding to the dict keys.\n",
    "\n",
    "import datetime\n",
    "import pymysql\n",
    "\n",
    "def persist_all_values_dict(dic, table_name):\n",
    "    cnx = pymysql.connect(user='dev', password='ax2',host='127.0.0.1',port=3307,db='test') \n",
    "\n",
    "    cursor = cnx.cursor() \n",
    "\n",
    "    add_salary = (\"INSERT INTO test.\"+table_name+\"\"\n",
    "              \"(firstname, lastname, startdate, enddate, salary) \"\n",
    "              \"VALUES (%(firstname)s, %(lastname)s, %(startdate)s, %(enddate)s, %(salary)s)\")\n",
    "    \n",
    "    cursor.execute(add_salary, dic)\n",
    "\n",
    "    cnx.commit()\n",
    "    cursor.close()\n",
    "    cnx.close()\n",
    "    \n",
    "\n",
    "new_dict = {'firstname': 'Henny2',\n",
    "  'lastname': 'Petersen2',\n",
    "  'startdate': datetime.date(1960, 1, 1),\n",
    "  'enddate': datetime.date(2004, 12, 31),\n",
    "  'salary': 230002}\n",
    "    \n",
    "persist_all_values_dict(new_dict,'pythondemo')"
   ]
  },
  {
   "cell_type": "code",
   "execution_count": null,
   "metadata": {},
   "outputs": [],
   "source": []
  }
 ],
 "metadata": {
  "kernelspec": {
   "display_name": "Python 3",
   "language": "python",
   "name": "python3"
  },
  "language_info": {
   "codemirror_mode": {
    "name": "ipython",
    "version": 3
   },
   "file_extension": ".py",
   "mimetype": "text/x-python",
   "name": "python",
   "nbconvert_exporter": "python",
   "pygments_lexer": "ipython3",
   "version": "3.7.4"
  }
 },
 "nbformat": 4,
 "nbformat_minor": 2
}
