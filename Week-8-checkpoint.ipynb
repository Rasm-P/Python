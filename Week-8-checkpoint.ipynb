{
 "cells": [
  {
   "cell_type": "code",
   "execution_count": 66,
   "metadata": {},
   "outputs": [
    {
     "name": "stdout",
     "output_type": "stream",
     "text": [
      "yellow: 10 \n",
      "light_blue [[11 13]\n",
      " [16 18]\n",
      " [21 23]\n",
      " [26 28]] \n",
      "red [11 12 13] \n",
      "green [12 17 22] \n",
      "blue [14 24]\n"
     ]
    }
   ],
   "source": [
    "# Class exercise: table\n",
    "import numpy as np\n",
    "\n",
    "a = np.arange(10, 30).reshape(4, 5)\n",
    "\n",
    "yellow = a[0,0]\n",
    "light_blue = a[:,1::2]\n",
    "red = a[0,1:4]\n",
    "green = a[0:3,2]\n",
    "blue = a[0::2,-1]\n",
    "\n",
    "print('yellow:',yellow, '\\nlight_blue', light_blue, '\\nred', red, '\\ngreen', green, '\\nblue', blue)"
   ]
  },
  {
   "cell_type": "code",
   "execution_count": 69,
   "metadata": {},
   "outputs": [
    {
     "name": "stdout",
     "output_type": "stream",
     "text": [
      "1: [12 13 14]\n",
      "2: [ 3 12 21]\n",
      "3: [2 5 8]\n"
     ]
    }
   ],
   "source": [
    "#Class exercise: cube\n",
    "import numpy as np\n",
    "\n",
    "a = np.arange(0, 27).reshape((3, 3, 3))\n",
    "\n",
    "print(\"1:\", a[1,1,:])\n",
    "print(\"2:\", a[:,1,0])\n",
    "print(\"3:\", a[0,:,2])"
   ]
  },
  {
   "cell_type": "code",
   "execution_count": 106,
   "metadata": {},
   "outputs": [
    {
     "name": "stdout",
     "output_type": "stream",
     "text": [
      "1: [  2   4   6   8  10  12  14  16  18  20  22  24  26  28  30  32  34  36\n",
      "  38  40  42  44  46  48  50  52  54  56  58  60  62  64  66  68  70  72\n",
      "  74  76  78  80  82  84  86  88  90  92  94  96  98 100]\n",
      "2 [ 6 16 26 36 46 56 66 76 86 96]\n",
      "3 [ 3  6  8  9 12 15 18 21 24 27 28 30 33 36 38 39 42 45 48 51 54 57 58 60\n",
      " 63 66 68 69 72 75 78 81 84 87 88 90 93 96 98 99]\n"
     ]
    }
   ],
   "source": [
    "#Class exercise: masking\n",
    "import numpy as np\n",
    "\n",
    "data = np.arange(1,101).reshape(10,10)\n",
    "print('1:',data[(data%2 == 0)])\n",
    "print('2',data[np.where(data%10==6)])\n",
    "print('3',data[np.where((data%10==8) | (data%3==0))])"
   ]
  },
  {
   "cell_type": "code",
   "execution_count": null,
   "metadata": {},
   "outputs": [],
   "source": [
    "#Exercise numpy and csv\n",
    "\n"
   ]
  }
 ],
 "metadata": {
  "kernelspec": {
   "display_name": "Python 3",
   "language": "python",
   "name": "python3"
  },
  "language_info": {
   "codemirror_mode": {
    "name": "ipython",
    "version": 3
   },
   "file_extension": ".py",
   "mimetype": "text/x-python",
   "name": "python",
   "nbconvert_exporter": "python",
   "pygments_lexer": "ipython3",
   "version": "3.7.4"
  }
 },
 "nbformat": 4,
 "nbformat_minor": 2
}
