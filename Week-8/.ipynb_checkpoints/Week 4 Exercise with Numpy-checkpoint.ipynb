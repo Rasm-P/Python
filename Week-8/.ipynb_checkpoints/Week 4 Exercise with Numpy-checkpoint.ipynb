{
 "cells": [
  {
   "cell_type": "code",
   "execution_count": 7,
   "metadata": {},
   "outputs": [],
   "source": [
    "#Exercise 1\n",
    "import numpy as np\n",
    "\n",
    "#1\n",
    "filename = './befkbhalderstatkode.csv'"
   ]
  },
  {
   "cell_type": "code",
   "execution_count": 8,
   "metadata": {},
   "outputs": [
    {
     "name": "stdout",
     "output_type": "stream",
     "text": [
      "[[2015    1    0 5100  614]\n",
      " [2015    1    0 5104    2]\n",
      " [2015    1    0 5106    1]\n",
      " ...\n",
      " [1992   99   89 5100    1]\n",
      " [1992   99   90 5180    1]\n",
      " [1992   99   93 5100    1]]\n"
     ]
    }
   ],
   "source": [
    "#2\n",
    "dd = np.genfromtxt(filename, delimiter=',', dtype=np.uint, skip_header=1)\n",
    "print(dd)"
   ]
  },
  {
   "cell_type": "code",
   "execution_count": 26,
   "metadata": {},
   "outputs": [
    {
     "name": "stdout",
     "output_type": "stream",
     "text": [
      "{'Udenfor': 3872, 'Vanløse': 39537, 'Brønshøj-Husum': 43908, 'Valby': 51727, 'Indre By': 51937, 'Bispebjerg': 53604, 'Amager Øst': 55205, 'Vesterbro/Kgs. Enghave': 61623, 'Amager Vest': 64967, 'Østerbro': 75113, 'Nørrebro': 78802}\n"
     ]
    }
   ],
   "source": [
    "#3\n",
    "neighb = {1: 'Indre By', 2: 'Østerbro', 3: 'Nørrebro', 4: 'Vesterbro/Kgs. Enghave', \n",
    "       5: 'Valby', 6: 'Vanløse', 7: 'Brønshøj-Husum', 8: 'Bispebjerg', 9: 'Amager Øst', \n",
    "       10: 'Amager Vest', 99: 'Udenfor'}\n",
    "\n",
    "people = {neighb[n]:np.sum(dd[(dd[:,0] == 2015) & (dd[:,1] == n)][:,4]) for n in neighb.keys()}\n",
    "sorted_people = {k: v for k, v in sorted(people.items(), key=lambda item: item[1])}\n",
    "\n",
    "print(sorted_people)"
   ]
  },
  {
   "cell_type": "code",
   "execution_count": 27,
   "metadata": {},
   "outputs": [
    {
     "data": {
      "image/png": "[encoded data removed]",
      "text/plain": [
       "<Figure size 432x288 with 1 Axes>"
      ]
     },
     "metadata": {
      "needs_background": "light"
     },
     "output_type": "display_data"
    }
   ],
   "source": [
    "#4\n",
    "import matplotlib.pyplot as plt\n",
    "\n",
    "plt.bar(sorted_people.keys(), sorted_people.values())\n",
    "plt.show()"
   ]
  },
  {
   "cell_type": "code",
   "execution_count": 37,
   "metadata": {},
   "outputs": [
    {
     "name": "stdout",
     "output_type": "stream",
     "text": [
      "55750\n"
     ]
    }
   ],
   "source": [
    "#5\n",
    "mask_aar = dd[:,0] == 2015\n",
    "mask_alder = dd[:,2] > 65\n",
    "print(np.sum(dd[(mask_aar) & (mask_alder)][:,4]))"
   ]
  },
  {
   "cell_type": "code",
   "execution_count": 39,
   "metadata": {},
   "outputs": [
    {
     "name": "stdout",
     "output_type": "stream",
     "text": [
      "575\n"
     ]
    }
   ],
   "source": [
    "#6\n",
    "mask_sverige = (dd[:,3] == 5120) | (dd[:,3] == 5110) | (dd[:,3] == 5104)\n",
    "print(np.sum(dd[(mask_aar) & (mask_alder) & (mask_sverige)][:,4]))"
   ]
  },
  {
   "cell_type": "code",
   "execution_count": 47,
   "metadata": {},
   "outputs": [
    {
     "data": {
      "text/plain": [
       "[<matplotlib.lines.Line2D at 0x12e1259bc88>]"
      ]
     },
     "execution_count": 47,
     "metadata": {},
     "output_type": "execute_result"
    },
    {
     "data": {
      "image/png": "[encoded data removed]",
      "text/plain": [
       "<Figure size 432x288 with 1 Axes>"
      ]
     },
     "metadata": {
      "needs_background": "light"
     },
     "output_type": "display_data"
    }
   ],
   "source": [
    "#7\n",
    "mask_sverige = dd[:,3] == 5120\n",
    "\n",
    "people = {n:np.sum(dd[(dd[:,0] == n) & ((dd[:,1] == 2) | (dd[:,1] == 4))][:,4]) for n in range(1992,2016)}\n",
    "plt.plot(list(people.keys()),list(people.values()))"
   ]
  },
  {
   "cell_type": "code",
   "execution_count": 102,
   "metadata": {},
   "outputs": [
    {
     "name": "stdout",
     "output_type": "stream",
     "text": [
      "       OMRÅDE  KØN  ALDER   TID  INDHOLD\n",
      "0           0    1      0  2008    32976\n",
      "1           0    1      0  2009    33656\n",
      "2           0    1      0  2010    32435\n",
      "3           0    1      0  2011    32628\n",
      "4           0    1      0  2012    30184\n",
      "...       ...  ...    ...   ...      ...\n",
      "31195     751    2    100  2016       32\n",
      "31196     751    2    100  2017       28\n",
      "31197     751    2    100  2018       18\n",
      "31198     751    2    100  2019       21\n",
      "31199     751    2    100  2020       23\n",
      "\n",
      "[31200 rows x 5 columns]\n"
     ]
    }
   ],
   "source": [
    "#Exercise 2 A bit harder (Extra only if you have the time)\n",
    "\n",
    "#1&2\n",
    "import pandas as pd \n",
    "url = 'C:/Users/rasmu/Desktop/Python/Week-8/FOLK1A.csv'\n",
    "df = pd.read_csv(url,sep=';')\n",
    "df['TID'] = df['TID'].map(lambda x:x[:-2])\n",
    "df.to_csv('demografic_cleaned.csv',header=False, index=False)\n",
    "print(df)"
   ]
  },
  {
   "cell_type": "code",
   "execution_count": 101,
   "metadata": {},
   "outputs": [
    {
     "name": "stdout",
     "output_type": "stream",
     "text": [
      "[[    0     1     0  2008 32976]\n",
      " [    0     1     0  2009 33656]\n",
      " [    0     1     0  2010 32435]\n",
      " ...\n",
      " [  751     2   100  2018    18]\n",
      " [  751     2   100  2019    21]\n",
      " [  751     2   100  2020    23]]\n"
     ]
    }
   ],
   "source": [
    "#3\n",
    "filename = 'demografic_cleaned.csv'\n",
    "demographic_data = np.loadtxt(filename, delimiter=',', dtype=np.uint)\n",
    "print(demographic_data)"
   ]
  },
  {
   "cell_type": "code",
   "execution_count": null,
   "metadata": {},
   "outputs": [],
   "source": []
  }
 ],
 "metadata": {
  "kernelspec": {
   "display_name": "Python 3",
   "language": "python",
   "name": "python3"
  },
  "language_info": {
   "codemirror_mode": {
    "name": "ipython",
    "version": 3
   },
   "file_extension": ".py",
   "mimetype": "text/x-python",
   "name": "python",
   "nbconvert_exporter": "python",
   "pygments_lexer": "ipython3",
   "version": "3.7.4"
  }
 },
 "nbformat": 4,
 "nbformat_minor": 2
}
