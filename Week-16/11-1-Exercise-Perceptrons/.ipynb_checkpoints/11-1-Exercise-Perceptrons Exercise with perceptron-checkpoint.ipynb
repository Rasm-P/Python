{
 "cells": [
  {
   "cell_type": "code",
   "execution_count": 71,
   "metadata": {},
   "outputs": [],
   "source": [
    "#Find the optimal weights for the two dimensional dataset to seperate mice from rats based on data about height and weight. \n",
    "#This is a superviced dataset with labels that can be found in the data folder (in this repo)\n"
   ]
  },
  {
   "cell_type": "code",
   "execution_count": 72,
   "metadata": {},
   "outputs": [
    {
     "data": {
      "text/html": [
       "<div>\n",
       "<style scoped>\n",
       "    .dataframe tbody tr th:only-of-type {\n",
       "        vertical-align: middle;\n",
       "    }\n",
       "\n",
       "    .dataframe tbody tr th {\n",
       "        vertical-align: top;\n",
       "    }\n",
       "\n",
       "    .dataframe thead th {\n",
       "        text-align: right;\n",
       "    }\n",
       "</style>\n",
       "<table border=\"1\" class=\"dataframe\">\n",
       "  <thead>\n",
       "    <tr style=\"text-align: right;\">\n",
       "      <th></th>\n",
       "      <th>weight</th>\n",
       "      <th>height</th>\n",
       "      <th>type</th>\n",
       "    </tr>\n",
       "  </thead>\n",
       "  <tbody>\n",
       "    <tr>\n",
       "      <td>0</td>\n",
       "      <td>233.479920</td>\n",
       "      <td>23.514130</td>\n",
       "      <td>rat</td>\n",
       "    </tr>\n",
       "    <tr>\n",
       "      <td>1</td>\n",
       "      <td>231.324467</td>\n",
       "      <td>26.033830</td>\n",
       "      <td>rat</td>\n",
       "    </tr>\n",
       "    <tr>\n",
       "      <td>2</td>\n",
       "      <td>17.906954</td>\n",
       "      <td>6.846577</td>\n",
       "      <td>mouse</td>\n",
       "    </tr>\n",
       "    <tr>\n",
       "      <td>3</td>\n",
       "      <td>230.276523</td>\n",
       "      <td>24.077800</td>\n",
       "      <td>rat</td>\n",
       "    </tr>\n",
       "    <tr>\n",
       "      <td>4</td>\n",
       "      <td>20.360593</td>\n",
       "      <td>6.605983</td>\n",
       "      <td>mouse</td>\n",
       "    </tr>\n",
       "  </tbody>\n",
       "</table>\n",
       "</div>"
      ],
      "text/plain": [
       "       weight     height   type\n",
       "0  233.479920  23.514130    rat\n",
       "1  231.324467  26.033830    rat\n",
       "2   17.906954   6.846577  mouse\n",
       "3  230.276523  24.077800    rat\n",
       "4   20.360593   6.605983  mouse"
      ]
     },
     "execution_count": 72,
     "metadata": {},
     "output_type": "execute_result"
    }
   ],
   "source": [
    "import pandas as pd\n",
    "import numpy as np\n",
    "import matplotlib\n",
    "import matplotlib.pyplot as plt\n",
    "from itertools import cycle\n",
    "    \n",
    "    \n",
    "rodent_data = pd.read_csv('rodents.csv', sep = ';')\n",
    "rodent_data.head()"
   ]
  },
  {
   "cell_type": "code",
   "execution_count": 73,
   "metadata": {},
   "outputs": [
    {
     "name": "stdout",
     "output_type": "stream",
     "text": [
      "[-5.  -2.5  0.   2.5  5. ]\n"
     ]
    },
    {
     "data": {
      "text/plain": [
       "[<matplotlib.lines.Line2D at 0x220af5b3d48>]"
      ]
     },
     "execution_count": 73,
     "metadata": {},
     "output_type": "execute_result"
    },
    {
     "data": {
      "image/png": "[encoded data removed]",
      "text/plain": [
       "<Figure size 432x288 with 1 Axes>"
      ]
     },
     "metadata": {
      "needs_background": "light"
     },
     "output_type": "display_data"
    }
   ],
   "source": [
    "#Part one: general\n",
    "\n",
    "#Look at the activation_function and plot the y-values for each x from -5,5 spaced with 0.5\n",
    "\n",
    "\n",
    "def activation_function(x):\n",
    "    \"\"\"\n",
    "    Step function to respond with y = 1 or -1\n",
    "    Parameter:\n",
    "    x: An x (numeric) value that will have a corresponding y value of 1 or -1\n",
    "    \"\"\"\n",
    "    if x < 0:\n",
    "        return -1\n",
    "    else:\n",
    "        return 1\n",
    "    \n",
    "rnge = np.linspace(-5, 5, num=5)\n",
    "print(rnge[0:5])\n",
    "values = [activation_function(i) for i in rnge]\n",
    "plt.plot(rnge, values)"
   ]
  },
  {
   "cell_type": "code",
   "execution_count": 74,
   "metadata": {},
   "outputs": [],
   "source": [
    "#Change the perceptron method from the notebook to use the numpy.dot() method in line 12 instead of the lengthy sum() function\n",
    "\n",
    "\n",
    "def perceptron(inp, weights):\n",
    "    \"\"\"\n",
    "    Given a list of input (x) values and a list of weights, \n",
    "    calculates the dot product of the 2 lists and returns 1 or -1 (fire or don't)\n",
    "    Parameters:\n",
    "    inp: vector of input predictors\n",
    "    weights: vector of weights to be ajusted for precise prediction of output.\n",
    "    \"\"\"\n",
    "    dot_product = np.dot(inp, weights)\n",
    "    output = activation_function(dot_product)\n",
    "    return output"
   ]
  },
  {
   "cell_type": "code",
   "execution_count": 78,
   "metadata": {},
   "outputs": [
    {
     "name": "stdout",
     "output_type": "stream",
     "text": [
      "[(array([233.47992042,  23.51412993]), 1), (array([231.32446732,  26.03382998]), 1), (array([17.90695406,  6.84657676]), -1), (array([230.27652283,  24.07779977]), 1), (array([20.36059266,  6.60598293]), -1), (array([21.60538752,  6.81246003]), -1), (array([17.8572872, 11.0354045]), 1), (array([22.12646643,  3.42641199]), -1), (array([16.70594556, 10.22468149]), 1), (array([        nan, 24.86058089]), 1)]\n"
     ]
    },
    {
     "data": {
      "image/png": "[encoded data removed]",
      "text/plain": [
       "<Figure size 432x288 with 1 Axes>"
      ]
     },
     "metadata": {
      "needs_background": "light"
     },
     "output_type": "display_data"
    }
   ],
   "source": [
    "#Part two: rodent data\n",
    "\n",
    "#Make a new scatter plot with datapoints of weights vs heights. Choose different colors for rats and mice\n",
    "\n",
    "\n",
    "class_labels = np.copy(rodent_data['type'])\n",
    "class_labels[class_labels != 'rat'] = -1\n",
    "class_labels[class_labels == 'rat'] = 1\n",
    "\n",
    "ro_data = rodent_data.drop(['type'],axis='columns')\n",
    "ro_data = ro_data.to_numpy()\n",
    "\n",
    "trainings_data = [(d[:2], l) for d, l in zip(ro_data, class_labels)]\n",
    "print(trainings_data[:10])\n",
    "\n",
    "\n",
    "def plot_data(data, w_line=None):\n",
    "    \"\"\"\n",
    "    show data in 2d hight vs. weight and target being 1 or -1 (indicating if rodent is rat or not.)\n",
    "    Parameters:\n",
    "    data: array of type tuple(array[height, weight], target) target is either 1 or -1\n",
    "    w_line: a visual line to seperate the 2 clusters. If none is provided it will not show\n",
    "    \"\"\"\n",
    "    data_points, class_labels = list(zip(*data))\n",
    "    data_points = np.array(data_points)\n",
    "    class_labels = np.array(class_labels)\n",
    "\n",
    "    colors = cycle('bgrcmy')\n",
    "    for l, col in zip(np.unique(class_labels), colors):\n",
    "        d =  data_points[class_labels == l]\n",
    "        x = d[:,0]\n",
    "        y = d[:,1]\n",
    "        plt.scatter(d[:,0], d[:,1], c=col, label=l)\n",
    "    \n",
    "    if w_line:                  \n",
    "        l = np.linspace(0, 5) \n",
    "        m, b = w_line\n",
    "        plt.plot(l, m * l + b, 'y-', lw=2)\n",
    "\n",
    "    plt.axis([0, 250, 0, 50])\n",
    "    plt.title('Rodent Characteristics')\n",
    "    plt.xlabel('Weight')\n",
    "    plt.ylabel('Height')\n",
    "    plt.legend()\n",
    "    \n",
    "    \n",
    "plot_data(trainings_data)"
   ]
  },
  {
   "cell_type": "code",
   "execution_count": null,
   "metadata": {},
   "outputs": [],
   "source": [
    "#Manually find the optimal linear function to divide the 2 groups (y = aX+b). Plot it on the scatter plot\n",
    "\n"
   ]
  }
 ],
 "metadata": {
  "kernelspec": {
   "display_name": "Python 3",
   "language": "python",
   "name": "python3"
  },
  "language_info": {
   "codemirror_mode": {
    "name": "ipython",
    "version": 3
   },
   "file_extension": ".py",
   "mimetype": "text/x-python",
   "name": "python",
   "nbconvert_exporter": "python",
   "pygments_lexer": "ipython3",
   "version": "3.7.4"
  }
 },
 "nbformat": 4,
 "nbformat_minor": 2
}
