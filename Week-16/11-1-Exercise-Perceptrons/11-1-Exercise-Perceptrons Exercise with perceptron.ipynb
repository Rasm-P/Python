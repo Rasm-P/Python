{
 "cells": [
  {
   "cell_type": "code",
   "execution_count": 15,
   "metadata": {},
   "outputs": [],
   "source": [
    "#Find the optimal weights for the two dimensional dataset to seperate mice from rats based on data about height and weight. \n",
    "#This is a superviced dataset with labels that can be found in the data folder (in this repo)\n",
    "\n",
    "#Each \"neuron\" in a neural network does a weighted sum of all of its inputs, adds a constant called the \"bias\" and then \n",
    "#feeds the result through some non-linear \"activation function\". The \"weights\" and \"biases\" are parameters that will be \n",
    "#determined through training. They are initialized with random values at first."
   ]
  },
  {
   "cell_type": "code",
   "execution_count": 16,
   "metadata": {},
   "outputs": [
    {
     "data": {
      "text/html": [
       "<div>\n",
       "<style scoped>\n",
       "    .dataframe tbody tr th:only-of-type {\n",
       "        vertical-align: middle;\n",
       "    }\n",
       "\n",
       "    .dataframe tbody tr th {\n",
       "        vertical-align: top;\n",
       "    }\n",
       "\n",
       "    .dataframe thead th {\n",
       "        text-align: right;\n",
       "    }\n",
       "</style>\n",
       "<table border=\"1\" class=\"dataframe\">\n",
       "  <thead>\n",
       "    <tr style=\"text-align: right;\">\n",
       "      <th></th>\n",
       "      <th>weight</th>\n",
       "      <th>height</th>\n",
       "      <th>type</th>\n",
       "    </tr>\n",
       "  </thead>\n",
       "  <tbody>\n",
       "    <tr>\n",
       "      <td>0</td>\n",
       "      <td>233.479920</td>\n",
       "      <td>23.514130</td>\n",
       "      <td>rat</td>\n",
       "    </tr>\n",
       "    <tr>\n",
       "      <td>1</td>\n",
       "      <td>231.324467</td>\n",
       "      <td>26.033830</td>\n",
       "      <td>rat</td>\n",
       "    </tr>\n",
       "    <tr>\n",
       "      <td>2</td>\n",
       "      <td>17.906954</td>\n",
       "      <td>6.846577</td>\n",
       "      <td>mouse</td>\n",
       "    </tr>\n",
       "    <tr>\n",
       "      <td>3</td>\n",
       "      <td>230.276523</td>\n",
       "      <td>24.077800</td>\n",
       "      <td>rat</td>\n",
       "    </tr>\n",
       "    <tr>\n",
       "      <td>4</td>\n",
       "      <td>20.360593</td>\n",
       "      <td>6.605983</td>\n",
       "      <td>mouse</td>\n",
       "    </tr>\n",
       "    <tr>\n",
       "      <td>...</td>\n",
       "      <td>...</td>\n",
       "      <td>...</td>\n",
       "      <td>...</td>\n",
       "    </tr>\n",
       "    <tr>\n",
       "      <td>245</td>\n",
       "      <td>22.249846</td>\n",
       "      <td>6.951267</td>\n",
       "      <td>mouse</td>\n",
       "    </tr>\n",
       "    <tr>\n",
       "      <td>246</td>\n",
       "      <td>228.568162</td>\n",
       "      <td>27.146987</td>\n",
       "      <td>rat</td>\n",
       "    </tr>\n",
       "    <tr>\n",
       "      <td>247</td>\n",
       "      <td>229.002922</td>\n",
       "      <td>23.526073</td>\n",
       "      <td>rat</td>\n",
       "    </tr>\n",
       "    <tr>\n",
       "      <td>248</td>\n",
       "      <td>232.249811</td>\n",
       "      <td>24.579833</td>\n",
       "      <td>NaN</td>\n",
       "    </tr>\n",
       "    <tr>\n",
       "      <td>249</td>\n",
       "      <td>231.160957</td>\n",
       "      <td>25.548475</td>\n",
       "      <td>rat</td>\n",
       "    </tr>\n",
       "  </tbody>\n",
       "</table>\n",
       "<p>250 rows × 3 columns</p>\n",
       "</div>"
      ],
      "text/plain": [
       "         weight     height   type\n",
       "0    233.479920  23.514130    rat\n",
       "1    231.324467  26.033830    rat\n",
       "2     17.906954   6.846577  mouse\n",
       "3    230.276523  24.077800    rat\n",
       "4     20.360593   6.605983  mouse\n",
       "..          ...        ...    ...\n",
       "245   22.249846   6.951267  mouse\n",
       "246  228.568162  27.146987    rat\n",
       "247  229.002922  23.526073    rat\n",
       "248  232.249811  24.579833    NaN\n",
       "249  231.160957  25.548475    rat\n",
       "\n",
       "[250 rows x 3 columns]"
      ]
     },
     "execution_count": 16,
     "metadata": {},
     "output_type": "execute_result"
    }
   ],
   "source": [
    "import pandas as pd\n",
    "import numpy as np\n",
    "import matplotlib\n",
    "import matplotlib.pyplot as plt\n",
    "from itertools import cycle\n",
    "    \n",
    "    \n",
    "rodent_data = pd.read_csv('rodents.csv', sep = ';')\n",
    "rodent_data"
   ]
  },
  {
   "cell_type": "code",
   "execution_count": 17,
   "metadata": {},
   "outputs": [
    {
     "name": "stdout",
     "output_type": "stream",
     "text": [
      "[-5.  -2.5  0.   2.5  5. ]\n"
     ]
    },
    {
     "data": {
      "text/plain": [
       "[<matplotlib.lines.Line2D at 0x237ea590388>]"
      ]
     },
     "execution_count": 17,
     "metadata": {},
     "output_type": "execute_result"
    },
    {
     "data": {
      "image/png": "[encoded data removed]",
      "text/plain": [
       "<Figure size 432x288 with 1 Axes>"
      ]
     },
     "metadata": {
      "needs_background": "light"
     },
     "output_type": "display_data"
    }
   ],
   "source": [
    "#Part one: general\n",
    "\n",
    "#1. Look at the activation_function and plot the y-values for each x from -5,5 spaced with 0.5\n",
    "\n",
    "\n",
    "def activation_function(x):\n",
    "    \"\"\"\n",
    "    Step function to respond with y = 1 or -1\n",
    "    Parameter:\n",
    "    x: An x (numeric) value that will have a corresponding y value of 1 or -1\n",
    "    \"\"\"\n",
    "    if x < 0:\n",
    "        return -1\n",
    "    else:\n",
    "        return 1\n",
    "    \n",
    "rnge = np.linspace(-5, 5, num=5)\n",
    "print(rnge[0:5])\n",
    "values = [activation_function(i) for i in rnge]\n",
    "plt.plot(rnge, values)"
   ]
  },
  {
   "cell_type": "code",
   "execution_count": 18,
   "metadata": {},
   "outputs": [],
   "source": [
    "#2. Change the perceptron method from the notebook to use the numpy.dot() method in line 12 instead of the lengthy sum() function\n",
    "\n",
    "\n",
    "def perceptron(inp, weights):\n",
    "    \"\"\"\n",
    "    Given a list of input (x) values and a list of weights, \n",
    "    calculates the dot product of the 2 lists and returns 1 or -1 (fire or don't)\n",
    "    Parameters:\n",
    "    inp: vector of input predictors\n",
    "    weights: vector of weights to be ajusted for precise prediction of output.\n",
    "    \"\"\"\n",
    "    dot_product = np.dot(inp, weights)\n",
    "    output = activation_function(dot_product)\n",
    "    return output"
   ]
  },
  {
   "cell_type": "code",
   "execution_count": 19,
   "metadata": {},
   "outputs": [
    {
     "data": {
      "image/png": "[encoded data removed]",
      "text/plain": [
       "<Figure size 432x288 with 1 Axes>"
      ]
     },
     "metadata": {
      "needs_background": "light"
     },
     "output_type": "display_data"
    }
   ],
   "source": [
    "#Part two: rodent data\n",
    "\n",
    "#1. Make a new scatter plot with datapoints of weights vs heights. Choose different colors for rats and mice\n",
    "\n",
    "\n",
    "def plot_manual(rodent_data, w_line=None):\n",
    "    rodent_weight = rodent_data[rodent_data['type'] == 'rat']['weight']\n",
    "    rodent_height = rodent_data[rodent_data['type'] == 'rat']['height']\n",
    "    plt.scatter(rodent_weight, rodent_height, c='b', label='setosa')\n",
    "\n",
    "    rodent_weight = rodent_data[rodent_data['type'] != 'rat']['weight']\n",
    "    rodent_height = rodent_data[rodent_data['type'] != 'rat']['height']\n",
    "    plt.scatter(rodent_weight, rodent_height, c='g', label='other')\n",
    "\n",
    "    plt.title('Rodent weight and height Characteristics')\n",
    "    plt.xlabel('Rodent weight')\n",
    "    plt.ylabel('Rodent height')\n",
    "    \n",
    "    if w_line:                  \n",
    "        l = np.linspace(0, 300) \n",
    "        m, b = w_line\n",
    "        plt.plot(l, m * l + b, 'y-', lw=2)\n",
    "        print('Slope:',m)\n",
    "        print('Intercept:',b)\n",
    "    \n",
    "    plt.axis([0, 250, 0, 50])\n",
    "    plt.legend()\n",
    "    plt.show()\n",
    "\n",
    "plot_manual(rodent_data)"
   ]
  },
  {
   "cell_type": "code",
   "execution_count": 20,
   "metadata": {},
   "outputs": [
    {
     "name": "stdout",
     "output_type": "stream",
     "text": [
      "Slope: 0.044\n",
      "Intercept: 9\n"
     ]
    },
    {
     "data": {
      "image/png": "[encoded data removed]",
      "text/plain": [
       "<Figure size 432x288 with 1 Axes>"
      ]
     },
     "metadata": {
      "needs_background": "light"
     },
     "output_type": "display_data"
    }
   ],
   "source": [
    "#M2. Manually find the optimal linear function to divide the 2 groups (y = aX+b). Plot it on the scatter plot\n",
    "\n",
    "#3. What is the slope and intercept of the linear function?\n",
    "\n",
    "plot_manual(rodent_data,(0.044,9))"
   ]
  },
  {
   "cell_type": "code",
   "execution_count": 21,
   "metadata": {},
   "outputs": [
    {
     "data": {
      "text/html": [
       "<div>\n",
       "<style scoped>\n",
       "    .dataframe tbody tr th:only-of-type {\n",
       "        vertical-align: middle;\n",
       "    }\n",
       "\n",
       "    .dataframe tbody tr th {\n",
       "        vertical-align: top;\n",
       "    }\n",
       "\n",
       "    .dataframe thead th {\n",
       "        text-align: right;\n",
       "    }\n",
       "</style>\n",
       "<table border=\"1\" class=\"dataframe\">\n",
       "  <thead>\n",
       "    <tr style=\"text-align: right;\">\n",
       "      <th></th>\n",
       "      <th>weight</th>\n",
       "      <th>height</th>\n",
       "      <th>type</th>\n",
       "    </tr>\n",
       "  </thead>\n",
       "  <tbody>\n",
       "    <tr>\n",
       "      <td>0</td>\n",
       "      <td>233.479920</td>\n",
       "      <td>23.514130</td>\n",
       "      <td>rat</td>\n",
       "    </tr>\n",
       "    <tr>\n",
       "      <td>1</td>\n",
       "      <td>231.324467</td>\n",
       "      <td>26.033830</td>\n",
       "      <td>rat</td>\n",
       "    </tr>\n",
       "    <tr>\n",
       "      <td>2</td>\n",
       "      <td>17.906954</td>\n",
       "      <td>6.846577</td>\n",
       "      <td>mouse</td>\n",
       "    </tr>\n",
       "    <tr>\n",
       "      <td>3</td>\n",
       "      <td>230.276523</td>\n",
       "      <td>24.077800</td>\n",
       "      <td>rat</td>\n",
       "    </tr>\n",
       "    <tr>\n",
       "      <td>4</td>\n",
       "      <td>20.360593</td>\n",
       "      <td>6.605983</td>\n",
       "      <td>mouse</td>\n",
       "    </tr>\n",
       "    <tr>\n",
       "      <td>...</td>\n",
       "      <td>...</td>\n",
       "      <td>...</td>\n",
       "      <td>...</td>\n",
       "    </tr>\n",
       "    <tr>\n",
       "      <td>244</td>\n",
       "      <td>20.614362</td>\n",
       "      <td>6.575722</td>\n",
       "      <td>mouse</td>\n",
       "    </tr>\n",
       "    <tr>\n",
       "      <td>245</td>\n",
       "      <td>22.249846</td>\n",
       "      <td>6.951267</td>\n",
       "      <td>mouse</td>\n",
       "    </tr>\n",
       "    <tr>\n",
       "      <td>246</td>\n",
       "      <td>228.568162</td>\n",
       "      <td>27.146987</td>\n",
       "      <td>rat</td>\n",
       "    </tr>\n",
       "    <tr>\n",
       "      <td>247</td>\n",
       "      <td>229.002922</td>\n",
       "      <td>23.526073</td>\n",
       "      <td>rat</td>\n",
       "    </tr>\n",
       "    <tr>\n",
       "      <td>249</td>\n",
       "      <td>231.160957</td>\n",
       "      <td>25.548475</td>\n",
       "      <td>rat</td>\n",
       "    </tr>\n",
       "  </tbody>\n",
       "</table>\n",
       "<p>245 rows × 3 columns</p>\n",
       "</div>"
      ],
      "text/plain": [
       "         weight     height   type\n",
       "0    233.479920  23.514130    rat\n",
       "1    231.324467  26.033830    rat\n",
       "2     17.906954   6.846577  mouse\n",
       "3    230.276523  24.077800    rat\n",
       "4     20.360593   6.605983  mouse\n",
       "..          ...        ...    ...\n",
       "244   20.614362   6.575722  mouse\n",
       "245   22.249846   6.951267  mouse\n",
       "246  228.568162  27.146987    rat\n",
       "247  229.002922  23.526073    rat\n",
       "249  231.160957  25.548475    rat\n",
       "\n",
       "[245 rows x 3 columns]"
      ]
     },
     "execution_count": 21,
     "metadata": {},
     "output_type": "execute_result"
    }
   ],
   "source": [
    "#5. Clean up any rows with null data\n",
    "\n",
    "rodent_data = rodent_data.dropna()\n",
    "rodent_data"
   ]
  },
  {
   "cell_type": "code",
   "execution_count": 22,
   "metadata": {},
   "outputs": [
    {
     "name": "stdout",
     "output_type": "stream",
     "text": [
      "[(array([233.47992042,  23.51412993]), 1), (array([231.32446732,  26.03382998]), 1), (array([17.90695406,  6.84657676]), -1), (array([230.27652283,  24.07779977]), 1), (array([20.36059266,  6.60598293]), -1), (array([21.60538752,  6.81246003]), -1), (array([17.8572872, 11.0354045]), 1), (array([22.12646643,  3.42641199]), -1), (array([16.70594556, 10.22468149]), 1), (array([17.8298957 ,  1.76093337]), -1)]\n"
     ]
    }
   ],
   "source": [
    "#4. Now change the 'type' column to represent rats as 1 and mice as -1\n",
    "\n",
    "\n",
    "class_labels = np.copy(rodent_data['type'])\n",
    "class_labels[class_labels != 'rat'] = -1\n",
    "class_labels[class_labels == 'rat'] = 1\n",
    "\n",
    "ro_data = rodent_data.drop(['type'],axis='columns')\n",
    "ro_data = ro_data.to_numpy()\n",
    "\n",
    "trainings_data = [(d[:2], l) for d, l in zip(ro_data, class_labels)]\n",
    "print(trainings_data[:10])"
   ]
  },
  {
   "cell_type": "code",
   "execution_count": 23,
   "metadata": {},
   "outputs": [
    {
     "name": "stdout",
     "output_type": "stream",
     "text": [
      "1\n",
      "-1\n",
      "1\n"
     ]
    }
   ],
   "source": [
    "#6. Use these weights herè [40,-190] to determine if the following 3 animals are mice or rats:\n",
    "animals = [[231.32446731816555,26.03382997978225],\n",
    "           [17.906954059999567,6.846576762459397],\n",
    "           [230.276522831171,24.077799766119398]]\n",
    "\n",
    "weights = [40,-190]\n",
    "\n",
    "\n",
    "def predict(inp_vec, weights):\n",
    "    \"\"\"\n",
    "    Parameters:\n",
    "    inp_vec:\n",
    "        An input vector consisting of rodent weight and height\n",
    "    weights:\n",
    "        A vector of same length as inp_vec, containing a weight for each input\n",
    "    return:\n",
    "        A class label, either 1 for 'rat' or -1 for 'other'\n",
    "    \"\"\"\n",
    "    class_label_prediction = perceptron(inp_vec, weights)\n",
    "    return class_label_prediction\n",
    "\n",
    "\n",
    "for a in animals:\n",
    "    print(predict(a, weights))"
   ]
  },
  {
   "cell_type": "code",
   "execution_count": 24,
   "metadata": {},
   "outputs": [
    {
     "name": "stdout",
     "output_type": "stream",
     "text": [
      "[(array([233.47992042,  23.51412993]), 1), (array([231.32446732,  26.03382998]), 1), (array([17.90695406,  6.84657676]), -1), (array([230.27652283,  24.07779977]), 1), (array([20.36059266,  6.60598293]), -1), (array([21.60538752,  6.81246003]), -1), (array([17.8572872, 11.0354045]), 1), (array([22.12646643,  3.42641199]), -1), (array([16.70594556, 10.22468149]), 1), (array([17.8298957 ,  1.76093337]), -1)]\n",
      "[  68.08940781 -224.43748256]\n",
      "Slope: 0.3033780589271885\n",
      "Intercept: 0.29031217119989144\n"
     ]
    },
    {
     "data": {
      "image/png": "[encoded data removed]",
      "text/plain": [
       "<Figure size 432x288 with 1 Axes>"
      ]
     },
     "metadata": {
      "needs_background": "light"
     },
     "output_type": "display_data"
    }
   ],
   "source": [
    "#7. Find the (approximately) optimal weights using the perceptron learning algorithm\n",
    "#8. Plot the weightline\n",
    "#9. Plot the division line\n",
    "\n",
    "def plot_data(data, w_line=None, learned_weights=None):\n",
    "    \"\"\"\n",
    "    show data in 2d petal length vs width and target being 1 or -1 (indicating if flower is iris setosa or not.)\n",
    "    Parameters:\n",
    "    data: array of type tuple(array[petal_height, petal_width], target) target is either 1 or -1\n",
    "    w_line: a visual line to seperate the 2 clusters. If none is provided it will not show\n",
    "    \"\"\"\n",
    "    data_points, class_labels = list(zip(*data))\n",
    "    data_points = np.array(data_points)\n",
    "    class_labels = np.array(class_labels)\n",
    "\n",
    "    colors = cycle('bgrcmy')\n",
    "    for l, col in zip(np.unique(class_labels), colors):\n",
    "        d =  data_points[class_labels == l]\n",
    "        x = d[:,0]\n",
    "        y = d[:,1]\n",
    "        plt.scatter(d[:,0], d[:,1], c=col, label=l)\n",
    "    \n",
    "    if w_line:                  # only plot a division line if one exists\n",
    "        l = np.linspace(0, 3000) # 50 evenly spaced numbers for the x axis\n",
    "        m, b = w_line           # m = slope, b = intercept\n",
    "        plt.plot(l, m * l + b, 'y-', lw=2) # lw is line width\n",
    "        plt.plot([0,learned_weights[0]],[0,learned_weights[1]],lw=2)\n",
    "\n",
    "    plt.axis([0, 250, 0, 50])\n",
    "    plt.title('Rodent weight and height Characteristics')\n",
    "    plt.xlabel('Rodent weight')\n",
    "    plt.ylabel('Rodent height')\n",
    "    plt.legend()\n",
    "\n",
    "\n",
    "def pla(training_data, no_iterations=10000, eta=0.5):\n",
    "    \"\"\"\n",
    "    Find the proper weights to use in the perceptron based on data and target\n",
    "    Parameters:\n",
    "    training_data: list of vectors, as predictors zipped with a target value\n",
    "    no_iterations: number of times to adjust the weights to get them as close as possible to the optimal number\n",
    "    eta: the learning rate (prevent learning to go pendulum from one extreme error to the opposite)\n",
    "    \"\"\"\n",
    "    \n",
    "    dim = len(training_data[0][0]) # len = 2 (petal width and height)\n",
    "    weights =  np.random.random(dim) # error and weights (for x and y) start out as random numbers\n",
    "    \n",
    "    # initial_error\n",
    "    error = np.random.random()\n",
    "    weight_history = [np.copy(weights)]\n",
    "    print(training_data[:10])\n",
    "    for i in range(no_iterations):\n",
    "        #pdb.set_trace()\n",
    "        #breakpoint()\n",
    "        inp_vec, expected_label = training_data[i % len(training_data)] # expected labels are 1 or -1\n",
    "        perceptron_output = perceptron(inp_vec, weights) # perceptron output id a decimal between 0 and 1\n",
    "        error = expected_label - perceptron_output       # error \n",
    "        weights += eta * error * inp_vec # accumulate the weights\n",
    "        weight_history.append(np.copy(weights))\n",
    "        \n",
    "    return weights, weight_history \n",
    "\n",
    "\n",
    "def compute_line(weights):\n",
    "    \"\"\"\n",
    "    Visualizing Linear Separability by using weights/norm(weights) wich are othogonal to the division line.\n",
    "    Parameters:\n",
    "    weights: the weights calculated by PLA\n",
    "    \"\"\"\n",
    "    norm = np.linalg.norm(weights) # calculating the frobenius norm (or L2 norm) of the learned weights (The norm is the total magnitude of all vectors in the space)\n",
    "    ww = weights / norm # weight vector is perpendicular (or othogonal) to the division line\n",
    "    ww1 = [ww[1], -ww[0]] # first point on our division line\n",
    "    ww2 = [-ww[1] , ww[0]] # second point on our division line\n",
    "    # slope and intercept\n",
    "    m = (ww2[1] - ww1[1]) / (ww2[0] - ww1[0]) # slope = delta y / delta x\n",
    "    b = ((ww2[0] - ww1[0]) * m) + ww1[1]      # intercept = delta x * slope + y(x1)\n",
    "    print('Slope:',m)\n",
    "    print('Intercept:',b)\n",
    "    return m, b\n",
    "\n",
    "\n",
    "\n",
    "learned_weights, weight_history = pla(trainings_data)\n",
    "print(learned_weights)\n",
    "plot_data(trainings_data, compute_line(learned_weights), learned_weights)"
   ]
  },
  {
   "cell_type": "code",
   "execution_count": 25,
   "metadata": {},
   "outputs": [
    {
     "name": "stdout",
     "output_type": "stream",
     "text": [
      "[ 0.68453952 24.66267055]\n",
      "Slope: -0.02775609891739263\n",
      "Intercept: 0.02774541342752339\n"
     ]
    },
    {
     "data": {
      "image/png": "[encoded data removed]",
      "text/plain": [
       "<Figure size 432x288 with 1 Axes>"
      ]
     },
     "metadata": {
      "needs_background": "light"
     },
     "output_type": "display_data"
    }
   ],
   "source": [
    "\n",
    "def predict_with_bias(inp, weights):\n",
    "    \"\"\"\n",
    "    Given a list of input (x) values and a list of weights, \n",
    "    calculates the dot product of the 2 lists and returns 1 or -1 (fire or don't)\n",
    "    Parameters:\n",
    "    inp: vector of input predictors\n",
    "    weights: vector of weights to be ajusted for precise prediction of output. If weights contains an additional value, this must be the bias\n",
    "    \"\"\"\n",
    "    if len(weights)>len(inp):\n",
    "        bias,weights = weights[-1],weights[:-1]\n",
    "        sum_bias = np.dot(weights,inp)+bias\n",
    "        return activation_function(sum_bias)\n",
    "    # This is the same as the dot product np.dot(i, w)\n",
    "    dot_product = sum([i * w for i, w in zip(inp, weights)])\n",
    "    output = activation_function(dot_product)\n",
    "    return output\n",
    "\n",
    "def pla(training_data, no_iterations=50000, w_bias=False, eta=0.5):\n",
    "    \"\"\"\n",
    "    Find the proper weights to use in the perceptron based on data and target\n",
    "    \n",
    "    Parameters:\n",
    "    training_data: list of vectors, as predictors zipped with a target value\n",
    "    no_iterations: number of times to adjust the weights to get them as close as possible to the optimal number\n",
    "    eta: the learning rate (prevent learning to go pendulum from one extreme error to the opposite)\n",
    "    w_bias: boolean to indicate whether to use a bias weight together with the input weights\n",
    "    \"\"\"\n",
    "    error = np.random.random()\n",
    "    dim = len(training_data[0][0])\n",
    "    weights = np.random.random(dim)\n",
    "    weight_history = [np.copy(weights)]\n",
    "\n",
    "    if w_bias:\n",
    "        weights = np.random.random(dim + 1) # an extra bias weight is added to the list of weights\n",
    "        data = np.array(list(zip(*training_data))[0]) # extract the data from the targets\n",
    "        \n",
    "        biases = np.ones((data.shape[0], 1)) # matrix of 150 rows by 1 column of values = 1\n",
    "        training_data_w_bias = np.append(data, biases, axis=1) # append the biases to the data creating extra column\n",
    "        training_data = list(zip(training_data_w_bias, list(zip(*training_data))[1])) # adding the target column\n",
    "    \n",
    "    for i in range(no_iterations):\n",
    "        inp_vec, expected_label = training_data[i % len(training_data)]\n",
    "        perceptron_output = perceptron(inp_vec, weights)\n",
    "        error = expected_label - perceptron_output\n",
    "\n",
    "        weights += eta * error * inp_vec\n",
    "        weight_history.append(np.copy(weights))\n",
    "\n",
    "    return weights, np.array(weight_history)\n",
    "\n",
    "\n",
    "learned_weights, weight_history = pla(trainings_data, w_bias=True)\n",
    "learned_weights = learned_weights[:2]\n",
    "print(learned_weights)\n",
    "\n",
    "\n",
    "plot_data(trainings_data, compute_line(learned_weights), learned_weights)\n"
   ]
  },
  {
   "cell_type": "code",
   "execution_count": null,
   "metadata": {},
   "outputs": [],
   "source": []
  }
 ],
 "metadata": {
  "kernelspec": {
   "display_name": "Python 3",
   "language": "python",
   "name": "python3"
  },
  "language_info": {
   "codemirror_mode": {
    "name": "ipython",
    "version": 3
   },
   "file_extension": ".py",
   "mimetype": "text/x-python",
   "name": "python",
   "nbconvert_exporter": "python",
   "pygments_lexer": "ipython3",
   "version": "3.7.4"
  }
 },
 "nbformat": 4,
 "nbformat_minor": 2
}
