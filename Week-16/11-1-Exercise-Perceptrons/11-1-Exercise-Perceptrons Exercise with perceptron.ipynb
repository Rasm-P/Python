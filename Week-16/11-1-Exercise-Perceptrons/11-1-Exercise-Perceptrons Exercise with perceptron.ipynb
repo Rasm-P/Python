{
 "cells": [
  {
   "cell_type": "code",
   "execution_count": 275,
   "metadata": {},
   "outputs": [],
   "source": [
    "#Find the optimal weights for the two dimensional dataset to seperate mice from rats based on data about height and weight. \n",
    "#This is a superviced dataset with labels that can be found in the data folder (in this repo)\n"
   ]
  },
  {
   "cell_type": "code",
   "execution_count": 276,
   "metadata": {},
   "outputs": [
    {
     "data": {
      "text/html": [
       "<div>\n",
       "<style scoped>\n",
       "    .dataframe tbody tr th:only-of-type {\n",
       "        vertical-align: middle;\n",
       "    }\n",
       "\n",
       "    .dataframe tbody tr th {\n",
       "        vertical-align: top;\n",
       "    }\n",
       "\n",
       "    .dataframe thead th {\n",
       "        text-align: right;\n",
       "    }\n",
       "</style>\n",
       "<table border=\"1\" class=\"dataframe\">\n",
       "  <thead>\n",
       "    <tr style=\"text-align: right;\">\n",
       "      <th></th>\n",
       "      <th>weight</th>\n",
       "      <th>height</th>\n",
       "      <th>type</th>\n",
       "    </tr>\n",
       "  </thead>\n",
       "  <tbody>\n",
       "    <tr>\n",
       "      <td>0</td>\n",
       "      <td>233.479920</td>\n",
       "      <td>23.514130</td>\n",
       "      <td>rat</td>\n",
       "    </tr>\n",
       "    <tr>\n",
       "      <td>1</td>\n",
       "      <td>231.324467</td>\n",
       "      <td>26.033830</td>\n",
       "      <td>rat</td>\n",
       "    </tr>\n",
       "    <tr>\n",
       "      <td>2</td>\n",
       "      <td>17.906954</td>\n",
       "      <td>6.846577</td>\n",
       "      <td>mouse</td>\n",
       "    </tr>\n",
       "    <tr>\n",
       "      <td>3</td>\n",
       "      <td>230.276523</td>\n",
       "      <td>24.077800</td>\n",
       "      <td>rat</td>\n",
       "    </tr>\n",
       "    <tr>\n",
       "      <td>4</td>\n",
       "      <td>20.360593</td>\n",
       "      <td>6.605983</td>\n",
       "      <td>mouse</td>\n",
       "    </tr>\n",
       "  </tbody>\n",
       "</table>\n",
       "</div>"
      ],
      "text/plain": [
       "       weight     height   type\n",
       "0  233.479920  23.514130    rat\n",
       "1  231.324467  26.033830    rat\n",
       "2   17.906954   6.846577  mouse\n",
       "3  230.276523  24.077800    rat\n",
       "4   20.360593   6.605983  mouse"
      ]
     },
     "execution_count": 276,
     "metadata": {},
     "output_type": "execute_result"
    }
   ],
   "source": [
    "import pandas as pd\n",
    "import numpy as np\n",
    "import matplotlib\n",
    "import matplotlib.pyplot as plt\n",
    "from itertools import cycle\n",
    "    \n",
    "    \n",
    "rodent_data = pd.read_csv('rodents.csv', sep = ';')\n",
    "rodent_data.head()"
   ]
  },
  {
   "cell_type": "code",
   "execution_count": 277,
   "metadata": {},
   "outputs": [
    {
     "name": "stdout",
     "output_type": "stream",
     "text": [
      "[-5.  -2.5  0.   2.5  5. ]\n"
     ]
    },
    {
     "data": {
      "text/plain": [
       "[<matplotlib.lines.Line2D at 0x2660e34a3c8>]"
      ]
     },
     "execution_count": 277,
     "metadata": {},
     "output_type": "execute_result"
    },
    {
     "data": {
      "image/png": "[encoded data removed]",
      "text/plain": [
       "<Figure size 432x288 with 1 Axes>"
      ]
     },
     "metadata": {
      "needs_background": "light"
     },
     "output_type": "display_data"
    }
   ],
   "source": [
    "#Part one: general\n",
    "\n",
    "#1. Look at the activation_function and plot the y-values for each x from -5,5 spaced with 0.5\n",
    "\n",
    "\n",
    "def activation_function(x):\n",
    "    \"\"\"\n",
    "    Step function to respond with y = 1 or -1\n",
    "    Parameter:\n",
    "    x: An x (numeric) value that will have a corresponding y value of 1 or -1\n",
    "    \"\"\"\n",
    "    if x < 0:\n",
    "        return -1\n",
    "    else:\n",
    "        return 1\n",
    "    \n",
    "rnge = np.linspace(-5, 5, num=5)\n",
    "print(rnge[0:5])\n",
    "values = [activation_function(i) for i in rnge]\n",
    "plt.plot(rnge, values)"
   ]
  },
  {
   "cell_type": "code",
   "execution_count": 278,
   "metadata": {},
   "outputs": [],
   "source": [
    "#2. Change the perceptron method from the notebook to use the numpy.dot() method in line 12 instead of the lengthy sum() function\n",
    "\n",
    "\n",
    "def perceptron(inp, weights):\n",
    "    \"\"\"\n",
    "    Given a list of input (x) values and a list of weights, \n",
    "    calculates the dot product of the 2 lists and returns 1 or -1 (fire or don't)\n",
    "    Parameters:\n",
    "    inp: vector of input predictors\n",
    "    weights: vector of weights to be ajusted for precise prediction of output.\n",
    "    \"\"\"\n",
    "    dot_product = np.dot(inp, weights)\n",
    "    output = activation_function(dot_product)\n",
    "    return output"
   ]
  },
  {
   "cell_type": "code",
   "execution_count": 279,
   "metadata": {},
   "outputs": [
    {
     "data": {
      "image/png": "[encoded data removed]",
      "text/plain": [
       "<Figure size 432x288 with 1 Axes>"
      ]
     },
     "metadata": {
      "needs_background": "light"
     },
     "output_type": "display_data"
    }
   ],
   "source": [
    "#Part two: rodent data\n",
    "\n",
    "#1. Make a new scatter plot with datapoints of weights vs heights. Choose different colors for rats and mice\n",
    "\n",
    "\n",
    "def plot_manual(rodent_data, w_line=None):\n",
    "    rodent_weight = rodent_data[rodent_data['type'] == 'rat']['weight']\n",
    "    rodent_height = rodent_data[rodent_data['type'] == 'rat']['height']\n",
    "    plt.scatter(rodent_weight, rodent_height, c='b', label='setosa')\n",
    "\n",
    "    rodent_weight = rodent_data[rodent_data['type'] != 'rat']['weight']\n",
    "    rodent_height = rodent_data[rodent_data['type'] != 'rat']['height']\n",
    "    plt.scatter(rodent_weight, rodent_height, c='g', label='other')\n",
    "\n",
    "    plt.title('Rodent weight and height Characteristics')\n",
    "    plt.xlabel('Rodent weight')\n",
    "    plt.ylabel('Rodent height')\n",
    "    \n",
    "    if w_line:                  \n",
    "        l = np.linspace(0, 300) \n",
    "        m, b = w_line\n",
    "        plt.plot(l, m * l + b, 'y-', lw=2)\n",
    "        print('Slope:',m)\n",
    "        print('Intercept:',b)\n",
    "    \n",
    "    plt.axis([0, 250, 0, 50])\n",
    "    plt.legend()\n",
    "    plt.show()\n",
    "\n",
    "plot_manual(rodent_data)"
   ]
  },
  {
   "cell_type": "code",
   "execution_count": 280,
   "metadata": {},
   "outputs": [
    {
     "name": "stdout",
     "output_type": "stream",
     "text": [
      "Slope: 0.044\n",
      "Intercept: 9\n"
     ]
    },
    {
     "data": {
      "image/png": "[encoded data removed]",
      "text/plain": [
       "<Figure size 432x288 with 1 Axes>"
      ]
     },
     "metadata": {
      "needs_background": "light"
     },
     "output_type": "display_data"
    }
   ],
   "source": [
    "#M2. Manually find the optimal linear function to divide the 2 groups (y = aX+b). Plot it on the scatter plot\n",
    "\n",
    "#3. What is the slope and intercept of the linear function?\n",
    "\n",
    "plot_manual(rodent_data,(0.044,9))"
   ]
  },
  {
   "cell_type": "code",
   "execution_count": 281,
   "metadata": {},
   "outputs": [],
   "source": [
    "#5. Clean up any rows with null data\n",
    "\n",
    "rodent_data = rodent_data.dropna()"
   ]
  },
  {
   "cell_type": "code",
   "execution_count": 282,
   "metadata": {},
   "outputs": [
    {
     "name": "stdout",
     "output_type": "stream",
     "text": [
      "[(array([233.47992042,  23.51412993]), 1), (array([231.32446732,  26.03382998]), 1), (array([17.90695406,  6.84657676]), -1), (array([230.27652283,  24.07779977]), 1), (array([20.36059266,  6.60598293]), -1), (array([21.60538752,  6.81246003]), -1), (array([17.8572872, 11.0354045]), 1), (array([22.12646643,  3.42641199]), -1), (array([16.70594556, 10.22468149]), 1), (array([17.8298957 ,  1.76093337]), -1)]\n"
     ]
    }
   ],
   "source": [
    "#4. Now change the 'type' column to represent rats as 1 and mice as -1\n",
    "\n",
    "\n",
    "class_labels = np.copy(rodent_data['type'])\n",
    "class_labels[class_labels != 'rat'] = -1\n",
    "class_labels[class_labels == 'rat'] = 1\n",
    "\n",
    "ro_data = rodent_data.drop(['type'],axis='columns')\n",
    "ro_data = ro_data.to_numpy()\n",
    "\n",
    "trainings_data = [(d[:2], l) for d, l in zip(ro_data, class_labels)]\n",
    "print(trainings_data[:10])"
   ]
  },
  {
   "cell_type": "code",
   "execution_count": 283,
   "metadata": {},
   "outputs": [
    {
     "name": "stdout",
     "output_type": "stream",
     "text": [
      "1\n",
      "-1\n",
      "1\n"
     ]
    }
   ],
   "source": [
    "#6. Use these weights herè [40,-190] to determine if the following 3 animals are mice or rats:\n",
    "animals = [[231.32446731816555,26.03382997978225],\n",
    "           [17.906954059999567,6.846576762459397],\n",
    "           [230.276522831171,24.077799766119398]]\n",
    "\n",
    "weights = [40,-190]\n",
    "\n",
    "\n",
    "def predict(inp_vec, weights):\n",
    "    \"\"\"\n",
    "    Parameters:\n",
    "    inp_vec:\n",
    "        An input vector consisting of rodent weight and height\n",
    "    weights:\n",
    "        A vector of same length as inp_vec, containing a weight for each input\n",
    "    return:\n",
    "        A class label, either 1 for 'rat' or -1 for 'other'\n",
    "    \"\"\"\n",
    "    class_label_prediction = perceptron(inp_vec, weights)\n",
    "    return class_label_prediction\n",
    "\n",
    "\n",
    "for a in animals:\n",
    "    print(predict(a, weights))"
   ]
  },
  {
   "cell_type": "code",
   "execution_count": 284,
   "metadata": {},
   "outputs": [
    {
     "name": "stdout",
     "output_type": "stream",
     "text": [
      "[(array([233.47992042,  23.51412993]), 1), (array([231.32446732,  26.03382998]), 1), (array([17.90695406,  6.84657676]), -1), (array([230.27652283,  24.07779977]), 1), (array([20.36059266,  6.60598293]), -1), (array([21.60538752,  6.81246003]), -1), (array([17.8572872, 11.0354045]), 1), (array([22.12646643,  3.42641199]), -1), (array([16.70594556, 10.22468149]), 1), (array([17.8298957 ,  1.76093337]), -1), (array([229.88250532,  24.29466665]), 1), (array([17.73055577,  9.5570562 ]), -1), (array([20.48251289,  8.38047949]), -1), (array([226.24154554,  20.87541089]), 1), (array([18.08058309,  9.23417588]), -1), (array([228.29767459,  25.27948108]), 1), (array([18.13942449,  2.50423496]), -1), (array([232.06664231,  27.2185965 ]), 1), (array([20.63372736,  6.48930256]), -1), (array([23.59044761,  5.4986944 ]), -1), (array([227.51961289,  26.05189086]), 1), (array([21.95475903,  6.46778263]), -1), (array([22.0837118 , 11.22308929]), 1), (array([229.68526619,  24.93237326]), 1), (array([229.24407964,  25.46076494]), 1), (array([229.05894968,  23.46092353]), 1), (array([228.25580227,  24.59611586]), 1), (array([21.68973744,  8.21213588]), -1), (array([19.78134657,  7.18557496]), -1), (array([21.02719055,  7.63418118]), -1), (array([230.33794979,  22.79144099]), 1), (array([230.23295707,  25.00480877]), 1), (array([231.82434038,  23.6856806 ]), 1), (array([228.48142085,  24.26362569]), 1), (array([20.80204627,  9.69908578]), -1), (array([17.89970883,  6.00184979]), -1), (array([230.22343829,  26.71010597]), 1), (array([230.87516719,  25.03160841]), 1), (array([21.26473872,  5.98327206]), -1), (array([19.9398821 ,  8.04018554]), -1), (array([231.38949198,  25.53169887]), 1), (array([227.92561079,  25.09534815]), 1), (array([231.16338927,  24.8854329 ]), 1), (array([19.79438603,  5.68987796]), -1), (array([234.73120627,  24.77663898]), 1), (array([229.86496109,  27.72978823]), 1), (array([231.13688863,  25.26752735]), 1), (array([19.56999922,  8.07056659]), -1), (array([228.62739546,  27.95698775]), 1), (array([234.61948082,  24.48624194]), 1), (array([16.62387982,  5.48149094]), -1), (array([230.56531686,  22.75685436]), 1), (array([228.96668395,  29.85775961]), 1), (array([228.27764221,  24.83463464]), 1), (array([17.61946749,  7.0913002 ]), -1), (array([228.6457601 ,  27.38189008]), 1), (array([19.12454517,  5.00273509]), -1), (array([21.98944177,  6.45119984]), -1), (array([17.36994542,  7.82984402]), -1), (array([232.56965168,  24.59093935]), 1), (array([19.61552362,  9.49853863]), -1), (array([231.68791681,  24.3920799 ]), 1), (array([16.35674488,  6.14032799]), -1), (array([22.97923466,  5.07093257]), -1), (array([231.63440672,  26.85928251]), 1), (array([232.34102575,  27.24128535]), 1), (array([19.33683801,  9.13518384]), -1), (array([19.03086952, 10.18640146]), 1), (array([17.92051957,  6.91638322]), -1), (array([19.09205351,  7.51762052]), -1), (array([17.85455307, 10.0133512 ]), 1), (array([228.75945891,  25.81142998]), 1), (array([19.38297961,  7.12746783]), -1), (array([231.55161315,  26.08980408]), 1), (array([229.24636914,  27.81307916]), 1), (array([227.09921268,  25.66265737]), 1), (array([19.64151281,  6.49992829]), -1), (array([17.41020948,  5.96661083]), -1), (array([230.89114662,  23.462552  ]), 1), (array([230.55696961,  23.55786047]), 1), (array([17.86513888,  3.59302704]), -1), (array([16.39247103,  8.64335252]), -1), (array([18.5915235 ,  6.34206716]), -1), (array([17.70231887,  2.91455562]), -1), (array([229.84377566,  25.35289772]), 1), (array([229.86316037,  26.14516035]), 1), (array([229.13312151,  27.49082084]), 1), (array([229.4068739 ,  24.99656838]), 1), (array([229.29055167,  26.7349722 ]), 1), (array([18.30592008,  5.38711819]), -1), (array([17.57517709,  5.96153252]), -1), (array([20.20607538,  7.44117371]), -1), (array([228.33275202,  26.18789719]), 1), (array([19.86384687,  5.75112017]), -1), (array([19.01198804,  8.58654559]), -1), (array([227.88925411,  22.07259668]), 1), (array([230.53915939,  22.86581279]), 1), (array([20.3375624 ,  4.81328497]), -1), (array([15.19590878,  5.52753224]), -1), (array([23.76733117,  5.50130903]), -1), (array([17.63155733, 12.10502018]), 1), (array([229.16900502,  26.46209021]), 1), (array([232.06227911,  25.28423577]), 1), (array([230.35801132,  27.49861124]), 1), (array([233.9064474 ,  20.29002427]), 1), (array([229.64327955,  23.75455077]), 1), (array([20.48756495,  9.62693374]), -1), (array([16.2837669,  6.9378957]), -1), (array([21.52279322,  4.36211828]), -1), (array([227.39806955,  22.29673697]), 1), (array([18.42261104,  5.69453489]), -1), (array([231.91462689,  29.42477765]), 1), (array([228.08261671,  24.39856603]), 1), (array([20.83660038,  6.31862165]), -1), (array([231.38768029,  24.89772885]), 1), (array([22.77479999,  8.71826933]), -1), (array([229.61326641,  25.64381062]), 1), (array([15.1923974 ,  4.26581508]), -1), (array([232.79526816,  24.03576299]), 1), (array([229.17947932,  21.76554751]), 1), (array([15.77722264,  7.41226564]), -1), (array([19.58762204,  4.24945475]), -1), (array([16.98212993,  3.39516967]), -1), (array([16.62616183,  6.47243832]), -1), (array([232.99761733,  22.11616917]), 1), (array([227.84348925,  26.60708418]), 1), (array([229.70795722,  26.58503219]), 1), (array([16.294105 ,  5.2412421]), -1), (array([226.72905035,  23.20478413]), 1), (array([17.89858556,  7.19964629]), -1), (array([20.42560864,  6.53917518]), -1), (array([231.91996326,  25.59811799]), 1), (array([225.7353854 ,  23.05484335]), 1), (array([229.93379225,  24.13657468]), 1), (array([228.47229238,  27.23755054]), 1), (array([19.1516345 ,  5.28267428]), -1), (array([21.94783038,  7.51883982]), -1), (array([16.97348647, 10.96977836]), 1), (array([20.30942414,  3.788788  ]), -1), (array([227.36947952,  23.82330921]), 1), (array([230.15230562,  22.18649593]), 1), (array([18.84929548,  7.65910079]), -1), (array([21.95384077,  6.51901442]), -1), (array([230.62866439,  23.48045152]), 1), (array([228.94572417,  27.40941207]), 1), (array([18.58415338,  8.99633798]), -1), (array([228.85524495,  26.33808102]), 1), (array([18.95777434,  8.09885297]), -1), (array([16.87530354,  4.55647935]), -1), (array([17.13404642,  5.13119888]), -1), (array([20.38010527,  7.18982037]), -1), (array([20.54121046,  5.70963263]), -1), (array([18.31511192,  6.04631913]), -1), (array([20.33328303,  6.81541078]), -1), (array([233.12665689,  24.30938167]), 1), (array([228.82949843,  27.89031938]), 1), (array([18.62922623,  5.05345922]), -1), (array([228.61128573,  27.43237852]), 1), (array([228.85524047,  25.49907869]), 1), (array([229.37624357,  29.26440526]), 1), (array([17.78952198,  9.09487918]), -1), (array([20.37170186,  6.99065883]), -1), (array([229.74577806,  29.09453978]), 1), (array([228.97549694,  27.2597313 ]), 1), (array([18.75894339,  6.9691953 ]), -1), (array([226.41399828,  23.1109952 ]), 1), (array([229.41685172,  27.87781611]), 1), (array([231.14619135,  25.8323903 ]), 1), (array([18.73979108,  6.71716891]), -1), (array([229.83212162,  24.63462006]), 1), (array([228.09317741,  24.56895684]), 1), (array([18.63800197,  4.3147645 ]), -1), (array([20.87243081,  5.65425044]), -1), (array([231.44243206,  20.35892651]), 1), (array([228.52150612,  23.79567319]), 1), (array([19.84910482,  6.21350089]), -1), (array([231.6144781 ,  26.52722934]), 1), (array([229.36021071,  23.88482083]), 1), (array([18.80518963,  6.11885399]), -1), (array([17.28475922,  7.56779593]), -1), (array([16.93523037,  8.84148621]), -1), (array([233.95327233,  25.31121657]), 1), (array([232.93790629,  22.80992951]), 1), (array([17.924554  , 10.16085684]), 1), (array([230.6636186,  25.8606378]), 1), (array([17.79214147,  6.54106011]), -1), (array([19.19455586, 12.20290543]), 1), (array([229.18317032,  25.08853275]), 1), (array([228.13190271,  23.38119607]), 1), (array([17.72634651,  5.57086101]), -1), (array([20.81708613,  9.58850421]), -1), (array([231.19692232,  25.77133959]), 1), (array([230.80873704,  25.66433781]), 1), (array([16.51164019,  9.09624733]), -1), (array([228.61423473,  25.65472542]), 1), (array([19.74572934,  4.67891932]), -1), (array([232.68781621,  25.14274639]), 1), (array([18.05592186, 10.12654857]), 1), (array([229.62523618,  25.60019865]), 1), (array([17.48500614,  6.31486994]), -1), (array([231.51511109,  28.47067678]), 1), (array([21.28895148,  5.85170071]), -1), (array([228.63318398,  24.00672514]), 1), (array([17.45985342,  7.47858456]), -1), (array([234.05184612,  26.98979718]), 1), (array([17.85054947,  6.9649163 ]), -1), (array([16.45761416,  5.61064789]), -1), (array([227.83313093,  23.02892636]), 1), (array([18.43203649,  8.28048304]), -1), (array([18.0038649 ,  8.44778677]), -1), (array([17.24865624,  8.50132521]), -1), (array([20.37716973,  5.48260986]), -1), (array([227.99516211,  22.21822789]), 1), (array([232.90093342,  25.04046245]), 1), (array([15.78907305,  7.36723262]), -1), (array([226.69965224,  22.97107338]), 1), (array([229.59393638,  22.35405307]), 1), (array([234.15289402,  21.92931099]), 1), (array([229.92020899,  22.43920537]), 1), (array([17.07432273,  8.21372197]), -1), (array([14.62666354,  5.51887561]), -1), (array([16.5437863 , 10.06545913]), 1), (array([228.51192706,  23.4235673 ]), 1), (array([18.11409812,  8.51862025]), -1), (array([227.89796859,  27.21571943]), 1), (array([18.05499344,  8.53480166]), -1), (array([229.22422872,  25.47426296]), 1), (array([18.01327508,  9.50210938]), -1), (array([16.0421337,  5.7087268]), -1), (array([19.86181537, 10.67614874]), 1), (array([20.08805449,  9.15335795]), -1), (array([17.19885944,  6.14612907]), -1), (array([229.5112092,  27.7281602]), 1), (array([227.72139984,  25.71550847]), 1), (array([232.09282983,  27.1238632 ]), 1), (array([229.32691384,  26.31191079]), 1), (array([16.0887522,  8.201717 ]), -1), (array([231.52014686,  26.61172349]), 1), (array([231.128854 ,  23.7447593]), 1), (array([229.38806193,  28.83741162]), 1), (array([20.61436241,  6.57572175]), -1), (array([22.24984577,  6.95126724]), -1), (array([228.56816151,  27.14698723]), 1), (array([229.0029221 ,  23.52607347]), 1), (array([231.16095697,  25.54847503]), 1)]\n",
      "[  38.71923577 -140.26392948]\n",
      "Slope: 0.2760455657538635\n",
      "Intercept: 0.26609336675869477\n"
     ]
    },
    {
     "data": {
      "image/png": "[encoded data removed]",
      "text/plain": [
       "<Figure size 432x288 with 1 Axes>"
      ]
     },
     "metadata": {
      "needs_background": "light"
     },
     "output_type": "display_data"
    }
   ],
   "source": [
    "#7. Find the (approximately) optimal weights using the perceptron learning algorithm\n",
    "#8. Plot the weightline\n",
    "#9. Plot the division line\n",
    "\n",
    "def plot_data(data, w_line=None, learned_weights=None):\n",
    "    \"\"\"\n",
    "    show data in 2d petal length vs width and target being 1 or -1 (indicating if flower is iris setosa or not.)\n",
    "    Parameters:\n",
    "    data: array of type tuple(array[petal_height, petal_width], target) target is either 1 or -1\n",
    "    w_line: a visual line to seperate the 2 clusters. If none is provided it will not show\n",
    "    \"\"\"\n",
    "    data_points, class_labels = list(zip(*data))\n",
    "    data_points = np.array(data_points)\n",
    "    class_labels = np.array(class_labels)\n",
    "\n",
    "    colors = cycle('bgrcmy')\n",
    "    for l, col in zip(np.unique(class_labels), colors):\n",
    "        d =  data_points[class_labels == l]\n",
    "        x = d[:,0]\n",
    "        y = d[:,1]\n",
    "        plt.scatter(d[:,0], d[:,1], c=col, label=l)\n",
    "    \n",
    "    if w_line:                  # only plot a division line if one exists\n",
    "        l = np.linspace(0, 3000) # 50 evenly spaced numbers for the x axis\n",
    "        m, b = w_line           # m = slope, b = intercept\n",
    "        plt.plot(l, m * l + b, 'y-', lw=2) # lw is line width\n",
    "        plt.plot([0,learned_weights[0]],[0,learned_weights[1]],lw=2)\n",
    "\n",
    "    plt.axis([0, 250, 0, 50])\n",
    "    plt.title('Rodent weight and height Characteristics')\n",
    "    plt.xlabel('Rodent weight')\n",
    "    plt.ylabel('Rodent height')\n",
    "    plt.legend()\n",
    "\n",
    "\n",
    "def pla(training_data, no_iterations=10000, eta=0.5):\n",
    "    \"\"\"\n",
    "    Find the proper weights to use in the perceptron based on data and target\n",
    "    Parameters:\n",
    "    training_data: list of vectors, as predictors zipped with a target value\n",
    "    no_iterations: number of times to adjust the weights to get them as close as possible to the optimal number\n",
    "    eta: the learning rate (prevent learning to go pendulum from one extreme error to the opposite)\n",
    "    \"\"\"\n",
    "    \n",
    "    dim = len(training_data[0][0]) # len = 2 (petal width and height)\n",
    "    weights =  np.random.random(dim) # error and weights (for x and y) start out as random numbers\n",
    "    \n",
    "    # initial_error\n",
    "    error = np.random.random()\n",
    "    weight_history = [np.copy(weights)]\n",
    "    print(training_data)\n",
    "    for i in range(no_iterations):\n",
    "        #pdb.set_trace()\n",
    "        #breakpoint()\n",
    "        inp_vec, expected_label = training_data[i % len(training_data)] # expected labels are 1 or -1\n",
    "        perceptron_output = perceptron(inp_vec, weights) # perceptron output id a decimal between 0 and 1\n",
    "        error = expected_label - perceptron_output       # error \n",
    "        weights += eta * error * inp_vec # accumulate the weights\n",
    "        weight_history.append(np.copy(weights))\n",
    "        \n",
    "    return weights, weight_history \n",
    "\n",
    "\n",
    "def compute_line(weights):\n",
    "    \"\"\"\n",
    "    Visualizing Linear Separability by using weights/norm(weights) wich are othogonal to the division line.\n",
    "    Parameters:\n",
    "    weights: the weights calculated by PLA\n",
    "    \"\"\"\n",
    "    norm = np.linalg.norm(weights) # calculating the frobenius norm (or L2 norm) of the learned weights (The norm is the total magnitude of all vectors in the space)\n",
    "    ww = weights / norm # weight vector is perpendicular (or othogonal) to the division line\n",
    "    ww1 = [ww[1], -ww[0]] # first point on our division line\n",
    "    ww2 = [-ww[1] , ww[0]] # second point on our division line\n",
    "    # slope and intercept\n",
    "    m = (ww2[1] - ww1[1]) / (ww2[0] - ww1[0]) # slope = delta y / delta x\n",
    "    b = ((ww2[0] - ww1[0]) * m) + ww1[1]      # intercept = delta x * slope + y(x1)\n",
    "    print('Slope:',m)\n",
    "    print('Intercept:',b)\n",
    "    return m, b\n",
    "\n",
    "\n",
    "\n",
    "learned_weights, weight_history = pla(trainings_data)\n",
    "print(learned_weights)\n",
    "plot_data(trainings_data, compute_line(learned_weights), learned_weights)"
   ]
  },
  {
   "cell_type": "code",
   "execution_count": 285,
   "metadata": {},
   "outputs": [
    {
     "name": "stdout",
     "output_type": "stream",
     "text": [
      "[ 1.50405138 51.1852506 ]\n",
      "Slope: -0.029384468366156997\n",
      "Intercept: 0.029371790610242175\n"
     ]
    },
    {
     "data": {
      "image/png": "[encoded data removed]",
      "text/plain": [
       "<Figure size 432x288 with 1 Axes>"
      ]
     },
     "metadata": {
      "needs_background": "light"
     },
     "output_type": "display_data"
    }
   ],
   "source": [
    "\n",
    "def predict_with_bias(inp, weights):\n",
    "    \"\"\"\n",
    "    Given a list of input (x) values and a list of weights, \n",
    "    calculates the dot product of the 2 lists and returns 1 or -1 (fire or don't)\n",
    "    Parameters:\n",
    "    inp: vector of input predictors\n",
    "    weights: vector of weights to be ajusted for precise prediction of output. If weights contains an additional value, this must be the bias\n",
    "    \"\"\"\n",
    "    if len(weights)>len(inp):\n",
    "        bias,weights = weights[-1],weights[:-1]\n",
    "        sum_bias = np.dot(weights,inp)+bias\n",
    "        return activation_function(sum_bias)\n",
    "    # This is the same as the dot product np.dot(i, w)\n",
    "    dot_product = sum([i * w for i, w in zip(inp, weights)])\n",
    "    output = activation_function(dot_product)\n",
    "    return output\n",
    "\n",
    "def pla(training_data, no_iterations=50000, w_bias=False, eta=0.5):\n",
    "    \"\"\"\n",
    "    Find the proper weights to use in the perceptron based on data and target\n",
    "    \n",
    "    Parameters:\n",
    "    training_data: list of vectors, as predictors zipped with a target value\n",
    "    no_iterations: number of times to adjust the weights to get them as close as possible to the optimal number\n",
    "    eta: the learning rate (prevent learning to go pendulum from one extreme error to the opposite)\n",
    "    w_bias: boolean to indicate whether to use a bias weight together with the input weights\n",
    "    \"\"\"\n",
    "    error = np.random.random()\n",
    "    dim = len(training_data[0][0])\n",
    "    weights = np.random.random(dim)\n",
    "    weight_history = [np.copy(weights)]\n",
    "\n",
    "    if w_bias:\n",
    "        weights = np.random.random(dim + 1) # an extra bias weight is added to the list of weights\n",
    "        data = np.array(list(zip(*training_data))[0]) # extract the data from the targets\n",
    "        \n",
    "        biases = np.ones((data.shape[0], 1)) # matrix of 150 rows by 1 column of values = 1\n",
    "        training_data_w_bias = np.append(data, biases, axis=1) # append the biases to the data creating extra column\n",
    "        training_data = list(zip(training_data_w_bias, list(zip(*training_data))[1])) # adding the target column\n",
    "    \n",
    "    for i in range(no_iterations):\n",
    "        inp_vec, expected_label = training_data[i % len(training_data)]\n",
    "        perceptron_output = perceptron(inp_vec, weights)\n",
    "        error = expected_label - perceptron_output\n",
    "\n",
    "        weights += eta * error * inp_vec\n",
    "        weight_history.append(np.copy(weights))\n",
    "\n",
    "    return weights, np.array(weight_history)\n",
    "\n",
    "\n",
    "learned_weights, weight_history = pla(trainings_data, w_bias=True)\n",
    "learned_weights = learned_weights[:2]\n",
    "print(learned_weights)\n",
    "\n",
    "\n",
    "plot_data(trainings_data, compute_line(learned_weights), learned_weights)\n"
   ]
  },
  {
   "cell_type": "code",
   "execution_count": null,
   "metadata": {},
   "outputs": [],
   "source": []
  }
 ],
 "metadata": {
  "kernelspec": {
   "display_name": "Python 3",
   "language": "python",
   "name": "python3"
  },
  "language_info": {
   "codemirror_mode": {
    "name": "ipython",
    "version": 3
   },
   "file_extension": ".py",
   "mimetype": "text/x-python",
   "name": "python",
   "nbconvert_exporter": "python",
   "pygments_lexer": "ipython3",
   "version": "3.7.4"
  }
 },
 "nbformat": 4,
 "nbformat_minor": 2
}
